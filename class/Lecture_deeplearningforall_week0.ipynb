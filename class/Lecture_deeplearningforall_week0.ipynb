{
 "cells": [
  {
   "cell_type": "markdown",
   "metadata": {},
   "source": [
    "## 모두를 위한 딥러닝 #0\n",
    "\n",
    "- 학습 사이트: https://hunkim.github.io/ml/\n",
    "- 학습 내용: 시즌 1 - 딥러닝의 기본\n",
    "- 코드 저장소: https://github.com/hunkim/DeepLearningZeroToAll \n",
    "- 수업 전 미리 준비 할 일\n",
    "    1. `pip install tensorflow` 를 명령어 창에서 실행해서 tensorflow를 설치하자.\n",
    "    2. 아래 코드를 실행시켜서 제대로 설치되었는지 확인하자.\n",
    "    ```python\n",
    "    import tensorflow as tf\n",
    "    hello = tf.constant('Hello, TensorFlow!')\n",
    "    sess = tf.Session()\n",
    "    print(sess.run(hello))\n",
    "    >>> Hello, TensorFlow!\n",
    "    a = tf.constant(10)\n",
    "    b = tf.constant(32)\n",
    "    print(sess.run(a+b))\n",
    "    >>> 42\n",
    "    ```\n",
    "    3. [코드 저장소](https://github.com/hunkim/DeepLearningZeroToAll)에 들어가서 **Fork**를 눌러 코드를 다운 받자. <br><br>\n",
    "    \n",
    "- 수업 일정 (예상: 2달)\n",
    "    - 1주차: 수업의 개요 ~ Linear Regression \n",
    "    - 2주차: Logistic regression ~ ML의 실용과 몇 가지 팁\n",
    "    - 3주차: 딥러닝의 기본 개념과 문제, 그리고 해결 ~ Neural Network 1\n",
    "    - 4주차: Neural Network 2\n",
    "    - 5주차: Convolutional Neural Networks 절반\n",
    "    - 6주차: Convolutional Neural Networks 나머지\n",
    "    - 7주차: Recurrent Neural Network 절반\n",
    "    - 8주차: Recurrent Neural Network 나머지 <br><br>\n",
    "- 익히게 될 skill들: \n",
    "    1. 대표적인 딥러닝 모델(FC, CNN, RNN)에 대한 이해 \n",
    "    2. tensorflow 사용 능력\n",
    "    3. python 코딩 실력\n",
    "    4. 전체적인 머신러닝 pipeline 구축, 구현을 통한 문제 해결 능력 <br><br>\n",
    "- 추가적으로 학습이 필요할 내용들: \n",
    "    1. 데이터 전처리 능력 \n",
    "    2. 코드의 설계에 대한 이해 필요. (*pipeline을 어떻게 코드로 설게할 지*)\n",
    "    3. 모델의 기반이되는 수학적인 내용. (*알아야 직관적으로 머리속으로 모델의 구성을 짜기 쉽다.*) \n",
    "    4. 다른 사람들이 짜 놓은 코드를 많이 보고 내 style 만들기\n",
    "    5. 노가다 "
   ]
  }
 ],
 "metadata": {
  "kernelspec": {
   "display_name": "Python 3",
   "language": "python",
   "name": "python3"
  },
  "language_info": {
   "codemirror_mode": {
    "name": "ipython",
    "version": 3
   },
   "file_extension": ".py",
   "mimetype": "text/x-python",
   "name": "python",
   "nbconvert_exporter": "python",
   "pygments_lexer": "ipython3",
   "version": "3.6.1"
  }
 },
 "nbformat": 4,
 "nbformat_minor": 2
}
