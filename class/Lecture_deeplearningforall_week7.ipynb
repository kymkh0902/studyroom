{
 "cells": [
  {
   "cell_type": "markdown",
   "metadata": {},
   "source": [
    "## 모두를 위한 딥러닝 #7\n",
    "\n",
    "지금까지 모두를 위한 딥러닝 수업에서 배운 내용을 정리해보자. "
   ]
  },
  {
   "cell_type": "markdown",
   "metadata": {},
   "source": [
    "### 머신러닝의 개념 \n",
    "데이터를 토대로 어떤 규칙, 성향들을 **알고리즘**을 통해 기계를 학습시키는 것을 머신러닝이라고 한다. 학습된 기계는 데이터를 받아서 예측할 수 있게 된다. \n",
    "\n",
    "가장 중요한 건 전체적인 개념을 이해한 뒤에 세부적인 모델들을 배워서 우리가 가진 데이터에 적용하는 것이다.\n",
    "\n",
    "- 데이터로 하려는 일이 뭔가?\n",
    "- 우리가 가진 데이터는 어떤 종류인가?\n",
    "- 데이터를 컴퓨터가 읽기 좋게 하기 위해서 추가 작업이 필요한가?\n",
    "- 어떤 모델이 우리가 가진 데이터로부터 정보를 잘 이끌어낼 수 있나?\n",
    "- 모델에서 조정해줘야 할 변수들(hyperparameter)가 무엇이 있나?\n",
    "- 모델의 학습 목적을 어떤 함수로 지정해줘야 학습이 잘 될까? \n",
    "- 어떤 학습 방법이 우리가 선택한 모델을 빠르게 수렴하도록 학습시킬 수 있나?\n",
    "- 학습이 된다는 것을 어떤 기준으로 평가할 것인가?"
   ]
  },
  {
   "cell_type": "markdown",
   "metadata": {},
   "source": [
    "### 머신러닝의 틀 \n",
    "1. 전처리: \n",
    "    - train/test split: 데이터를 train, test로 나눈다. 필요 시 validation set도 만들어준다.\n",
    "    - normalization: 보통 데이터를 입력하기 전에 정규화를 시켜준다. \n",
    "    - generator: 배치 단위로 쪼개서 입력해주어야 하기 때문에 batch를 생성해주는 generator를 만들어준다.\n",
    "    - 이 외: padding, image resizing, cropping 등\n",
    "2. 모델: \n",
    "    - input_data: 학습을 위한 데이터 입력\n",
    "        - X: 이미지, 시간 관련 데이터(자연어, 주식..), 여러 feature로 이루어진 데이터 등\n",
    "        - y: 예측하려는 값(분류, 번역, 집값 등)\n",
    "    - model: 모델을 선정한다. 앞으로는 딥러닝 기반 모델을 주로 사용하게 될 예정이다.\n",
    "        - Logistic regression\n",
    "        - Linear regression\n",
    "        - FC\n",
    "        - CNN\n",
    "        - RNN\n",
    "    - loss: loss를 선정한다. 무엇을 예측하느냐에 따라서 사용하는 방식이 나뉘고 주로 분류에는 Cross entropy를, 회귀에는 MSE를 사용한다.\n",
    "        - MSE\n",
    "        - Cross entropy\n",
    "    - optimizer: optimizer를 선정한다. 지금까지는 Gradient descent를 사용했지만 더 다양한 학습 방법을 소개할 예정이다. \n",
    "        - Gradient descent optimizer\n",
    "        - Adam optimzer\n",
    "        - Adagrad optimizer \n",
    "    - train_op: 주로 loss를 최소화하는 training 방법을 사용한다.\n",
    "        - minimize loss\n",
    "    - prediction: 데이터를 입력해서 예상 결과를 얻는다.\n",
    "3. hyperparameter: \n",
    "    - learning_rate: 한 번에 얼마나 학습시킬 것인지 결정한다. optimizer에 들어간다.\n",
    "    - num_epochs: 얼마나 많이 학습을 시킬 것인지 결정한다. 모델의 iteration 수를 결정한다. \n",
    "    - batch_size: batch 크기를 얼마로 할 것인지 결정한다. 한 번에 얼만큼의 데이터 양으로 학습시킬 지 결정한다.\n",
    "    - n_layers: layer를 얼마나 중첩되서 쌓을 것인지 결정한다. \n",
    "    - num_units: layer의 hidden unit의 수를 몇으로 할 것인지 결정한다.\n",
    "    - dropout: dropout을 사용할 것인지, 얼마의 확률을 줄 것인지 결정한다.\n",
    "4. 평가\n",
    "    - metrics: prediction을 통해서 얻은 결과를 바탕으로 모델의 성능을 평가한다.\n",
    "        - precision: 정답(참)/찍은 수(참)\n",
    "        - recall: 정답(참)/정답 수(참) \n",
    "        - accuracy: 정답(참 + 거짓)/찍은 수(참 + 거짓)\n",
    "    - 예측 값 확인: 무작위 데이터를 집어넣은 다음 어떤 값이 나오는지 확인한다. \n",
    "6. 학습 모니터링: tensorflow의 `Summary`를 활용해서 모니터링한다. 혹은 Python의 `print`를 활용해서 모니터링한다.\n",
    "7. 학습된 모델 불러와서 재사용: tensorflow의 `Saver`, `restore`를 활용해서 학습시킨 모델을 저장한 뒤 재사용한다."
   ]
  },
  {
   "cell_type": "markdown",
   "metadata": {},
   "source": [
    "### 딥러닝 모델\n",
    "지금까지 크게 3가지 대분류 구조에 대해서 다루었다. 구조 별로 각각 특징이 있어서 개별로 **좀 더 ** 잘 다루는 데이터가 있지만 구조의 특징이 잘 활용될 수만 있다면 다양하게 활용이 가능하다. (예: CNN을 자연어 처리에 사용해서 좋은 성능을 낸다.)\n",
    "\n",
    "#### 1) FC\n",
    "가장 단순한 형태로, 정보들을 조합해서 다양하게 조합된 정보로 나타내준다. \n",
    "\n",
    "#### 2)  CNN\n",
    "지역적인 정보를 압축(receptive field)해서 다양한 추상화된 정보(filter를 통과한 값들)들로 표현한다. 이러한 특징으로 인해 이미지를 다루는 능력이 뛰어나다. 이미지의 local한 정보를 추상화하고 다양하게 표현된 값들을 조합하면 **특정 개체에 대한 특징**들을 나타낼 수 있게 되고 분류를 쉽게 할 수 있게 된다.\n",
    "\n",
    "#### 3)  RNN\n",
    "시계열 정보를 다룰 때 이전 시간에서의 정보는 이후 정보에 영향을 미친다. 이를 고려해줌으로써 과거에 대한 정보를 토대로 미래를 좀 더 정확하게 예측할 수 있도록 해준다. 구조는 FC가 여러 개 붙어있는 형태로 과거의 정보를 계속 조합한 뒤 앞으로 전달하는 형태를 띈다. 정보가 전달될 때 여러가지 문제(vanishing gradient, 방향, hidden state의 정보 반영 부족) 손실되는 단점이 있어서 이를 막기 위해 Bi-directional, Attention, LSTM 등의 구조가 나오게 된다."
   ]
  }
 ],
 "metadata": {
  "kernelspec": {
   "display_name": "Python 3",
   "language": "python",
   "name": "python3"
  },
  "language_info": {
   "codemirror_mode": {
    "name": "ipython",
    "version": 3
   },
   "file_extension": ".py",
   "mimetype": "text/x-python",
   "name": "python",
   "nbconvert_exporter": "python",
   "pygments_lexer": "ipython3",
   "version": "3.6.1"
  }
 },
 "nbformat": 4,
 "nbformat_minor": 2
}
