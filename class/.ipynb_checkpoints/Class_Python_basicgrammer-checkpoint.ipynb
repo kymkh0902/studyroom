{
 "cells": [
  {
   "cell_type": "markdown",
   "metadata": {},
   "source": [
    "## Python 기본 문법 \n",
    "\n",
    "Python을 다루면서 헷갈리는 부분들을 정리했다. 앞으로 코드를 짤 때 참조하길 바란다. \n",
    "\n",
    "\n",
    "#### 1. Global / Local 정의 \n",
    "\n",
    "1) Global : 파이썬 script 기준으로 어디에서든 쓸 수 있는 함수/변수를 의미한다. 쉽게 이해하려면 indent(들여쓰기)가 안된 값들은 죄다 Global이라고 생각하면 된다. <br> 왼쪽 벽에 붙어있는 변수, 함수, class들이다. \n",
    "\n",
    "2) Local : 특정 함수, Class 내에서만 사용할 수 있는 함수/변수를 의미한다. 위와 마찬가지로 들여쓰기가 되어 있으면 Local일거라고 의심해보자.\n",
    "\n",
    "내용으로만 보면 별거 없는데 순차적으로 코드를 작성하다보면 헷갈리기 쉽다. 위에 개념이 명확하게 있어야 코드를 짤 때 unit 단위로 묶고 <br>\n",
    "변수들을 원하는대로 쓸 수 있다. 아래 예제를 보자."
   ]
  },
  {
   "cell_type": "markdown",
   "metadata": {},
   "source": [
    "예제 1. Global/Local 함수 "
   ]
  },
  {
   "cell_type": "code",
   "execution_count": 1,
   "metadata": {
    "collapsed": true
   },
   "outputs": [],
   "source": [
    "def abc(x, y): # Global 함수 선언\n",
    "    z = x + y  # 함수 내용, 더하기\n",
    "    print(\"z : \", z)  \n",
    "    def multiply(x, y): # Local 함수 선언 \n",
    "        print(\"x : \", x) \n",
    "        print(\"y : \", y)\n",
    "        return x*y # Local 함수 return 값 \n",
    "    return multiply(z, 2) # Local 함수 사용해서 return 값 받음"
   ]
  },
  {
   "cell_type": "code",
   "execution_count": 2,
   "metadata": {},
   "outputs": [
    {
     "name": "stdout",
     "output_type": "stream",
     "text": [
      "z :  5\n",
      "x :  5\n",
      "y :  2\n"
     ]
    },
    {
     "data": {
      "text/plain": [
       "10"
      ]
     },
     "execution_count": 2,
     "metadata": {},
     "output_type": "execute_result"
    }
   ],
   "source": [
    "abc(2,3)"
   ]
  },
  {
   "cell_type": "markdown",
   "metadata": {},
   "source": [
    "예제 2. Global/Local 변수"
   ]
  },
  {
   "cell_type": "code",
   "execution_count": 5,
   "metadata": {},
   "outputs": [
    {
     "name": "stdout",
     "output_type": "stream",
     "text": [
      "5\n"
     ]
    }
   ],
   "source": [
    "x = 2 # Global 변수\n",
    "y = 3 # Global 변수\n",
    "def abc(x, y):  \n",
    "    z = x + y # x, y, z 모두 Local 변수\n",
    "    return z\n",
    "# print(z) # 이거 실행시키면 NameError 에러 발생\n",
    "\n",
    "z = abc(x, y) # Global 변수\n",
    "print(z)"
   ]
  },
  {
   "cell_type": "code",
   "execution_count": 7,
   "metadata": {},
   "outputs": [
    {
     "name": "stdout",
     "output_type": "stream",
     "text": [
      "10\n"
     ]
    }
   ],
   "source": [
    "x = range(1, 10) # Global 변수\n",
    "for i in x: # i도 Global 변수, 조건문에 있는 변수는 Local이 아니다. indent 없음!!\n",
    "    i = i + 1 \n",
    "print(i) # 근데 i는 계속 변하니까 마지막 값만 저장 "
   ]
  },
  {
   "cell_type": "markdown",
   "metadata": {},
   "source": [
    "예제 3. Global이 Local에서 사용되는 예제"
   ]
  },
  {
   "cell_type": "code",
   "execution_count": null,
   "metadata": {
    "collapsed": true
   },
   "outputs": [],
   "source": [
    "a = 1 # Global 변수\n",
    "\n",
    "def add(): # 입력 인자 안 주고 함수 선언\n",
    "    b = a + 1 \n",
    "    return b # return 값\n",
    "\n",
    "d = add() \n",
    "print(d) # Global 변수가 함수 내에서 잘 작동한 것으로 확인 됨 "
   ]
  },
  {
   "cell_type": "code",
   "execution_count": null,
   "metadata": {
    "collapsed": true
   },
   "outputs": [],
   "source": [
    "a = 1 # Global 변수\n",
    "\n",
    "def add(): # 아무 입력 변수도 주지 않았다 \n",
    "    global a # a를 global하게 만들어준다 \n",
    "    a = a + 1 # 밖에서 실행시키는 거랑 동일한 효과를 낸다. \n",
    "    # return 값도 없다. \n",
    "    \n",
    "add() # 함수를 실행시키면 무슨 일이 생기는지 보자. \n",
    "print(a) # add 함수 내용이 적용되었다. "
   ]
  },
  {
   "cell_type": "markdown",
   "metadata": {},
   "source": [
    "#### 2. 함수 \n",
    "\n",
    "기본적으로 아래와 같이 구성된다. 아래 예제를 참조해서 이해하면 쉽다. \n",
    "\n",
    "1) 입력 변수 : 입력 변수로 일반/디폴트/가변형/키워드 4가지 값을 줄 수 있다. ***입력 순서는 일반 > 디폴트 > 가변형 > 키워드 순이다.*** \n",
    "    - 일반 : x 변수에 해당한다. 그냥 아무 값도 지정해주지 않고 변수를 설정한다.\n",
    "    - 디폴트 : y=0에 해당한다. 초기값을 세팅하고, 변경하고 싶을 때는 y에 해당 값을 넣어주면 된다. \n",
    "    - 가변형 : \n",
    "    *arg에 해당한다. 값들을 순차적으로 입력해서 tuple 형태로 함수 내에서 받는다.\n",
    "    - 키워드 : **kwargs에 해당한다. 순차적으로 디폴트처럼 입력해주는데 해당 값이 dict형식으로 함수 내에서 받는다. \n",
    "\n",
    "2) 함수 내용 : 실행하려고 하는 내용이 온다. \n",
    "\n",
    "3) return 값 : return에 들어가는 local + global 변수/함수들로 이루어진 값. ***없어도 상관없다.*** <br>\n",
    "근데 없어도 상관없으면 ***함수가 없을 때 무슨 일을 할까? 라는 의문이 들 것이다. (변수 내놓는거 말고 모든 일)***\n",
    "\n",
    "```python\n",
    "def func(x, y=0, *args, **kwargs): # 입력 변수 \n",
    "    \"\"\"함수 내용\"\"\"\n",
    "    c = x + y\n",
    "    \"\"\"함수를 사용했을 때 return할 값\"\"\"\n",
    "    return c\n",
    "```"
   ]
  },
  {
   "cell_type": "markdown",
   "metadata": {},
   "source": [
    "예제 1. 함수 형태 이해하기"
   ]
  },
  {
   "cell_type": "code",
   "execution_count": 78,
   "metadata": {
    "collapsed": true
   },
   "outputs": [],
   "source": [
    "def add(x, y=0, *args, **kwargs):\n",
    "    c = x + y\n",
    "    print(\"x : \", x)\n",
    "    print(\"y : \", y)\n",
    "    print(\"args : \", args)\n",
    "    print(\"kwargs : \", kwargs)\n",
    "    return c"
   ]
  },
  {
   "cell_type": "code",
   "execution_count": 86,
   "metadata": {},
   "outputs": [
    {
     "name": "stdout",
     "output_type": "stream",
     "text": [
      "x :  1\n",
      "y :  1\n",
      "args :  (2, 3)\n",
      "kwargs :  {'a': 3}\n",
      "z :  2\n"
     ]
    }
   ],
   "source": [
    "z = add(1, 1, 2, 3, a=3)\n",
    "print(\"z : \", z)"
   ]
  },
  {
   "cell_type": "markdown",
   "metadata": {},
   "source": [
    "예제 2. numpy와 matplotlib를 예제로 어떤 입력 변수들을 받는지 확인해보자. "
   ]
  },
  {
   "cell_type": "code",
   "execution_count": null,
   "metadata": {
    "collapsed": true
   },
   "outputs": [],
   "source": [
    "import numpy as np "
   ]
  },
  {
   "cell_type": "code",
   "execution_count": null,
   "metadata": {
    "collapsed": true
   },
   "outputs": [],
   "source": [
    "np.dot(a, b, out=None)\n",
    "\n",
    "np.reshape(a, newshape, order='C')\n",
    "\n",
    "np.array(object, dtype=None, copy=True, order='K', subok=False, ndim=0)"
   ]
  },
  {
   "cell_type": "code",
   "execution_count": 28,
   "metadata": {
    "collapsed": true
   },
   "outputs": [],
   "source": [
    "import matplotlib.pyplot as plt"
   ]
  },
  {
   "cell_type": "code",
   "execution_count": null,
   "metadata": {
    "collapsed": true
   },
   "outputs": [],
   "source": [
    "plt.plot(*args, **kwargs)"
   ]
  }
 ],
 "metadata": {
  "kernelspec": {
   "display_name": "Python 3",
   "language": "python",
   "name": "python3"
  },
  "language_info": {
   "codemirror_mode": {
    "name": "ipython",
    "version": 3
   },
   "file_extension": ".py",
   "mimetype": "text/x-python",
   "name": "python",
   "nbconvert_exporter": "python",
   "pygments_lexer": "ipython3",
   "version": "3.6.1"
  }
 },
 "nbformat": 4,
 "nbformat_minor": 2
}
