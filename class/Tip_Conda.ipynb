{
 "cells": [
  {
   "cell_type": "markdown",
   "metadata": {},
   "source": [
    "## Conda \n",
    "\n",
    "\n",
    "PC 내에 여러 가상환경을 만들어서 다양한 버전의 python을 ***관리하고 사용***할 수 있게 해주는 conda를 소개한다. <br>\n",
    "\n",
    "가상환경이 필요한 이유는 python의 버전만 해도 수십개이고, 패키지는 훨씬 더 많다. <br>\n",
    "웹 상에서 어떤 구현되어 있는 것을 우리가 똑같이 따라하려고 하면 패키지, 버전에 따라서 안 되는 경우가 많고 <br>\n",
    "이를 방지하기 위해서는 동일한 조건 내에서 실행을 시켜줘야 한다. <br>\n",
    "\n",
    "가상환경 내에서 여러 버전의 python, 원하는 패키지만 깔아서 실행시킬 수 있다. Jupyter는 이를 지원해주고 있어서 \n",
    "버튼 중에 **Kernel - Change Kernel**에 들어가면 설치되어 있는 다른 버전의 console로 변경할 수 있게 된다. \n",
    "\n",
    "물론 가상환경을 만들게 되면 우리의 PC내 특정 폴더에 설치가 되고 **activate**할 때마다 그 폴더에 가서 불러오게 되는 것이다. \n",
    "\n",
    "default값으로 지정되어 있는 python 버전은 C:/anaconda/ 폴더에 있는 것으로 생각하면 되겠다. \n",
    "\n",
    "Conda와 같은 용도로 사용되는 virtualenv도 존재한다.<br>\n",
    "\n",
    "그리고 가상환경과 비슷하지만 아예 새로운 컴퓨터 환경을 만들어버리는 가상머신도 있는데 이것도 용도는 거의 비슷하다. <br> \n",
    "python에 다양한 버전이 있는 것처럼 OS에도 다양한 버전(*window, linux, mac*)이 있어서 동일한 환경에서 \n",
    "무언가 하기 위해서 사용한다고 간략하게 알면 되겠다.\n",
    "\n",
    "***\n",
    "그럼 Conda를 통해 가상환경을 만드는 법을 익혀보자.\n",
    "\n",
    "가상환경 내에 anaconda에서 default로 깔아주는 패키지를 다 넣어서 사용할 예정이다. (처음 python 설치했을 때와 동일한 설정)\n",
    "그리고 Coursera - Machine Learning 예제 코드가 python2 버전이므로 2의 최신 버전을 설치할 예정이다. \n",
    "\n",
    "순서대로 설치하고 실행시켜보자. 모든 작업은 cmd창에서 이루어진다. \n",
    "\n",
    "1. 가상환경을 만들어준다. <br>\n",
    "*(conda가 환경변수 내에 추가되어서 conda를 실행시키고, 그에 맞는 문법으로 [name]을 이름으로 하는(-n) python 버전 2.7을 anaconda \n",
    "패키지를 가져와서 설치한다고 이해하면 되겠다.)*\n",
    "```\n",
    "conda create -n [name] python=2.7 anaconda\n",
    "```\n",
    "2. 가상환경을 실행시켜보자. <br>\n",
    "```\n",
    "activate [name]\n",
    "```\n",
    "3. 가상환경을 종료시켜보자. <br>\n",
    "```\n",
    "deactivate \n",
    "```\n",
    "4. 도움말을 보자 <br>\n",
    "```\n",
    "conda --help \n",
    "```\n",
    "\n",
    "도움말을 보면 **list, update, install** 등의 명령어를 볼 수 있는데 conda가 패키지를 관리해주는 역할도 하므로 각각 가상환경 내에서\n",
    "패키지 버전을 쉽게 관리할 수 있다. \n",
    "\n",
    "기존에 사용하던 `pip install [패키지명]` 대신 `conda install [패키지명]` 을 해주면 되겠다.\n",
    "\n",
    "### 계속 프로그래밍 언어를 사용하다보면 언젠간 관리의 필요성을 자연스럽게 느끼게 될 것이므로 일단 지금은 설치해서 jupyter에서 사용하면 되겠다!\n"
   ]
  }
 ],
 "metadata": {
  "anaconda-cloud": {},
  "kernelspec": {
   "display_name": "Python [default]",
   "language": "python",
   "name": "python3"
  },
  "language_info": {
   "codemirror_mode": {
    "name": "ipython",
    "version": 3
   },
   "file_extension": ".py",
   "mimetype": "text/x-python",
   "name": "python",
   "nbconvert_exporter": "python",
   "pygments_lexer": "ipython3",
   "version": "3.5.2"
  }
 },
 "nbformat": 4,
 "nbformat_minor": 2
}
