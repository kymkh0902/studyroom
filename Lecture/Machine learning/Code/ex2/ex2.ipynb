{
 "cells": [
  {
   "cell_type": "markdown",
   "metadata": {},
   "source": [
    "<font color='red'> 찾아볼 함수 </font>\n",
    "- np.where\n",
    "- np.ndarray.astype"
   ]
  },
  {
   "cell_type": "markdown",
   "metadata": {},
   "source": [
    "## Programming Exercise 2: Logistic Regression"
   ]
  },
  {
   "cell_type": "code",
   "execution_count": 1,
   "metadata": {
    "collapsed": true
   },
   "outputs": [],
   "source": [
    "%matplotlib inline\n",
    "import numpy as np\n",
    "import matplotlib.pyplot as plt\n",
    "import pandas as pd\n",
    "\n",
    "plt.rcParams['figure.figsize'] = (10.0, 8.0) # set default size of plots\n",
    "plt.rcParams['image.interpolation'] = 'nearest'\n",
    "plt.rcParams['image.cmap'] = 'gray'\n",
    "\n",
    "def rel_error(x, y):\n",
    "    \"\"\" returns relative error \"\"\"\n",
    "    return np.max(np.abs(x - y) / (np.maximum(1e-8, np.abs(x) + np.abs(y))))"
   ]
  },
  {
   "cell_type": "markdown",
   "metadata": {},
   "source": [
    "### 1 Logistic Regression"
   ]
  },
  {
   "cell_type": "code",
   "execution_count": 6,
   "metadata": {
    "collapsed": true
   },
   "outputs": [],
   "source": [
    "datafile = 'data/ex2data1.txt'\n",
    "##############################################################################\n",
    "# np.loadtxt를 사용해서 datafile을 불러오기.                                 \n",
    "# 조건 :구분자는 \",\" 이고 데이터 범위는 column 기준 0, 1, 2번째, unpack : True   \n",
    "##############################################################################\n",
    "\n",
    "### 코드 시작 ### \n",
    "cols = np.loadtxt('./data/ex2data1.txt', delimiter=',', usecols = (0,1,2), unpack=True)\n",
    "### 코드 끝 ###\n",
    "assert cols.shape == (3, 100), \"불러온 데이터의 shape가 맞지 않음.\" \n",
    "\n",
    "##############################################################################\n",
    "# X, y를 적절한 형태로 바꾼다. m x n(m: 데이터 개수, n: feature 개수)\n",
    "# transpose 나 reshape 사용하면 됨. \n",
    "##############################################################################\n",
    "\n",
    "### 코드 시작 ### \n",
    "X = np.transpose(cols[:2])\n",
    "y = np.transpose(cols[2:3])\n",
    "m = 100 # 데이터 개수 m으로 저장\n",
    "\n",
    "### 코드 끝 ###\n",
    "assert X.shape == (100, 2) and y.shape == (100, 1), \"X 혹은 y의 shape가 맞지 않음.\"\n",
    "\n",
    "\n",
    "##############################################################################\n",
    "# X vector에 값이 1로 이루어진 1개 열을 추가해서 matrix로 만들어준다.              \n",
    "# 강의에서 bias(theta0) 값 X에 넣어주는 연산임.                                \n",
    "# np.insert 사용.                                                        \n",
    "##############################################################################\n",
    "\n",
    "### 코드 시작 ###\n",
    "X = np.insert(X, 2, 1, axis=1)\n",
    "## 이전 코드 보면 1번째 열에 1을 넣어줬음!! 위 코드는 3번째 열(2)에 1을 넣어주는 코드. \n",
    "## --> 그래서 아래 그래프 그린거 보면 y좌표가 전부다 1인 걸로 보임. \n",
    "\n",
    "### 코드 끝 ###\n",
    "assert X.shape == (100, 3), \"X의 shape가 맞지 않음\""
   ]
  },
  {
   "cell_type": "markdown",
   "metadata": {},
   "source": [
    "#### 1.1 Visualizing the data"
   ]
  },
  {
   "cell_type": "code",
   "execution_count": 7,
   "metadata": {
    "collapsed": true
   },
   "outputs": [],
   "source": [
    "##############################################################################\n",
    "# X를 positive/negative 데이터로 각각 나누어주자. \n",
    "# positive는 y==1일 때의 index에 해당하는 X의 값\n",
    "# negative는 y==0일 때의 index에 해당하는 X의 값이다.                                                            \n",
    "# np.where를 사용하면 된다. \n",
    "##############################################################################\n",
    "\n",
    "### 코드 시작 ###\n",
    "pos = X[np.where(y==1)[0]]\n",
    "neg = X[np.where(y==0)[0]]\n",
    "### 코드 끝 ###\n",
    "assert pos.shape == (60, 3) and neg.shape == (40, 3)"
   ]
  },
  {
   "cell_type": "code",
   "execution_count": 8,
   "metadata": {},
   "outputs": [
    {
     "data": {
      "image/png": "[encoded data removed]",
      "text/plain": [
       "<matplotlib.figure.Figure at 0x7fd15bc49e80>"
      ]
     },
     "metadata": {},
     "output_type": "display_data"
    }
   ],
   "source": [
    "# pos, neg 데이터를 scatter 그래프로 나타내보자. \n",
    "def plotData():\n",
    "    plt.plot(pos[:,1],pos[:,2],'k+',label='Admitted')\n",
    "    plt.plot(neg[:,1],neg[:,2],'yo',label='Not admitted')\n",
    "    plt.xlabel('Exam 1 score')\n",
    "    plt.ylabel('Exam 2 score')\n",
    "    plt.legend()\n",
    "    plt.grid(True)\n",
    "    \n",
    "plotData()"
   ]
  },
  {
   "cell_type": "markdown",
   "metadata": {},
   "source": [
    "#### 1.2 Implementation"
   ]
  },
  {
   "cell_type": "code",
   "execution_count": 9,
   "metadata": {},
   "outputs": [
    {
     "name": "stdout",
     "output_type": "stream",
     "text": [
      "x=1일 때 sigmoid 계산 값 차이 :  5.9024031973e-09\n"
     ]
    }
   ],
   "source": [
    "##############################################################################\n",
    "# sigmoid 함수를 만들어보자. \n",
    "# 수식을 보고 작성하면 된다. \n",
    "##############################################################################\n",
    "\n",
    "\n",
    "def sigmoid(x):\n",
    "    \"\"\"\n",
    "    X : X 데이터, shape=(m, n), (array)\n",
    "    \"\"\"\n",
    "    ### 코드 시작 ###    \n",
    "    return 1 / (1 + np.exp(-x))\n",
    "    ### 코드 끝 ###\n",
    "print(\"x=1일 때 sigmoid 계산 값 차이 : \", rel_error(sigmoid(1), 0.73105857))"
   ]
  },
  {
   "cell_type": "code",
   "execution_count": 13,
   "metadata": {},
   "outputs": [
    {
     "data": {
      "image/png": "[encoded data removed]",
      "text/plain": [
       "<matplotlib.figure.Figure at 0x7fd15b705780>"
      ]
     },
     "metadata": {},
     "output_type": "display_data"
    }
   ],
   "source": [
    "# sigmoid 그래프로 나타내기 \n",
    "## 중복된 코드 있었어서 안 돌아갔음. 코드 수정함!!\n",
    "def plotsigmoid():\n",
    "    x = np.arange(-10,10,.1)\n",
    "    plt.plot(x, sigmoid(x))\n",
    "    plt.title('Sigmoid function')\n",
    "    plt.grid()\n",
    "    plt.show()\n",
    "\n",
    "plotsigmoid()"
   ]
  },
  {
   "cell_type": "code",
   "execution_count": 14,
   "metadata": {
    "collapsed": true
   },
   "outputs": [],
   "source": [
    "def h(theta,X): \n",
    "    \"\"\"\n",
    "    theta : theta 값, shape=(n, 1), (array)\n",
    "    X : X 데이터, shape=(m, n), (array)\n",
    "    \"\"\"\n",
    "    ##############################################################################\n",
    "    # logistic function에서의 h식을 만들어보자. \n",
    "    # 위에서 선언한 sigmoid 함수를 활용하자 \n",
    "    ##############################################################################\n",
    "    \n",
    "    ### 코드 시작 ###\n",
    "    return sigmoid(np.dot(X,theta))\n",
    "    ### 코드 끝 ###\n",
    "\n",
    "def computeCost(theta, X, y): \n",
    "    \"\"\"\n",
    "    theta : theta 값, shape=(n, 1), (array)\n",
    "    X : X 데이터, shape=(m, n), (array)\n",
    "    y : y 데이터, shape=(m, 1), (array)\n",
    "    \"\"\"\n",
    "    ##############################################################################\n",
    "    # Cost 함수를 구해보자. \n",
    "    # 강의에서 배운 수식을 2개로 쪼개서 앞 쪽, 뒤 쪽을 numpy로 구현한 뒤에 합치면 된다. \n",
    "    # np.dot, np.sum, transpose, 위에서 정의한 h식을 섞어서 사용하면 된다. \n",
    "    ##############################################################################\n",
    "    \n",
    "    ### 코드 시작 ###\n",
    "    A = np.dot(y.T, np.log(h(theta, X)))\n",
    "    B = np.dot((1 - y).T, np.log(1 - h(theta, X)))\n",
    "    return (-1) / m * np.sum(A + B)\n",
    "    ### 코드 끝 ### "
   ]
  },
  {
   "cell_type": "code",
   "execution_count": 15,
   "metadata": {},
   "outputs": [
    {
     "name": "stdout",
     "output_type": "stream",
     "text": [
      "Cost 값과 정답과의 차이 :  5.81117200647e-08\n"
     ]
    }
   ],
   "source": [
    "# 임의로 정한 theta 값\n",
    "initial_theta = np.zeros((X.shape[1],1))\n",
    "# cost 계산 \n",
    "computeCost(initial_theta,X,y)\n",
    "\n",
    "print(\"Cost 값과 정답과의 차이 : \", rel_error(computeCost(initial_theta, X, y), 0.6931471))"
   ]
  },
  {
   "cell_type": "markdown",
   "metadata": {},
   "source": [
    "## Optimization \n",
    "\n",
    "gradient descent가 그렇듯 아래 식을 풀어서 optimization을 할 예정이다. <br>\n",
    "$\\theta_j := \\theta_j - \\alpha {\\frac \\partial {\\partial \\theta_j}} J(\\theta_0, \\theta_1)$ 식을 똑같이 미분해서 구하면 되는데 음... 조금 어려울 수도 있다. \n",
    "\n",
    "Cost function을 보면 아래와 같고, <br>\n",
    "$J(\\theta)=-\\frac{1}{m}\\sum_{i=1}^m \\left[y^i\\theta x^i-\\theta x^i-\\log(1+e^{-\\theta x^i})\\right]=-\\frac{1}{m}\\sum_{i=1}^m \\left[y^i\\theta x^i-\\log(1+e^{\\theta x^i})\\right] ~~(1)$ <br>\n",
    "\n",
    "위 식을 적당히 미분하면(*일단 패스하자*) 아래 결과를 얻을 수 있다. <br>\n",
    "$\\frac{\\partial}{\\partial \\theta_j}y^i\\theta x^i=y^ix^i_j ~~(2) $ <br>\n",
    "$\\frac{\\partial}{\\partial \\theta_j}\\log(1+e^{\\theta x^i})=\\frac{x^i_je^{\\theta x^i}}{1+e^{\\theta x^i}}=x^i_jh_\\theta(x^i)~~(3)$ <br>\n",
    "\n",
    "전개 과정은 생략하고 1번 식인 $J(\\theta)$ 내부 식을 $\\theta$에 대한 derivative를 구하면 (2), (3) 번 식을 유도할 수 있다.\n",
    "\n",
    "그럼, $\\frac{\\partial}{\\partial \\theta_j}J(\\theta) = -\\frac{1}{m} \\sum_{i=1}^m \\big [ y^ix^i_j + x^i_jh_\\theta(x^i) \\big ]$"
   ]
  },
  {
   "cell_type": "code",
   "execution_count": 16,
   "metadata": {
    "collapsed": true
   },
   "outputs": [],
   "source": [
    "# iteration 10만번 예정이다. \n",
    "iterations = 100000\n",
    "# learning_rate는 0.001\n",
    "alpha = 0.001\n",
    "\n",
    "def descendGradient(X, theta):\n",
    "    \"\"\"\n",
    "    theta : theta 값, shape=(n, 1), (array)\n",
    "    X : X 데이터, shape=(m, n), (array)\n",
    "    \"\"\"\n",
    "    theta_history = []  # theta 변화 과정 저장 \n",
    "    cost_history = []  # cost 변화 과정 저장 \n",
    "    ##############################################################################\n",
    "    # Gradient descent를 하자. \n",
    "    # 1) 위에서 혹은 강의에서 배운 수식을 gradient로 구현한다. \n",
    "    # 2) iteration 만큼 theta를 update 시켜준다. \n",
    "    # 3) 매번 업데이트 시켜줬을 때 cost, theta 값을 위에 cost_history, theta_history에 각각 저장해준다. \n",
    "    # 4) iterations 만큼 update 시켜준 뒤에 theta, cost_history, theta_history를 return 한다. \n",
    "    # linear regression에서 구현한 식이랑 거의 비슷하다. \n",
    "    ##############################################################################\n",
    "    \n",
    "    for i in range(iterations):\n",
    "        theta_tmp = theta\n",
    "        cost_history.append(computeCost(theta, X, y))\n",
    "        theta_history.append(theta)\n",
    "        theta_tmp = theta - (alpha * np.sum(np.dot(X.T, (h(theta, X) - y))))\n",
    "        theta = theta_tmp\n",
    "    \n",
    "    return theta, cost_history, theta_history\n",
    "    "
   ]
  },
  {
   "cell_type": "code",
   "execution_count": 17,
   "metadata": {},
   "outputs": [
    {
     "name": "stderr",
     "output_type": "stream",
     "text": [
      "/home/whikwon/anaconda3/lib/python3.6/site-packages/ipykernel_launcher.py:29: RuntimeWarning: divide by zero encountered in log\n",
      "/home/whikwon/anaconda3/lib/python3.6/site-packages/ipykernel_launcher.py:12: RuntimeWarning: overflow encountered in exp\n",
      "  if sys.path[0] == '':\n",
      "/home/whikwon/anaconda3/lib/python3.6/site-packages/ipykernel_launcher.py:28: RuntimeWarning: divide by zero encountered in log\n"
     ]
    },
    {
     "name": "stdout",
     "output_type": "stream",
     "text": [
      "theta 값과 정답과의 차이 :  1.0\n"
     ]
    }
   ],
   "source": [
    "# gradient descent 실행\n",
    "theta, theta_history, cost_history = descendGradient(X, initial_theta)\n",
    "true_theta = np.array([[-4.81180027],\n",
    "                       [0.04528064],\n",
    "                       [0.03819149]])\n",
    "print(\"theta 값과 정답과의 차이 : \", rel_error(theta, true_theta))"
   ]
  },
  {
   "cell_type": "code",
   "execution_count": 18,
   "metadata": {},
   "outputs": [
    {
     "data": {
      "text/plain": [
       "array([[ 2.30716427],\n",
       "       [ 2.30716427],\n",
       "       [ 2.30716427]])"
      ]
     },
     "execution_count": 18,
     "metadata": {},
     "output_type": "execute_result"
    }
   ],
   "source": [
    "## 위 descentGradient 코드에서 다 잘했는데 아래 theta값을 보면 전부다 같은 걸로 보임. \n",
    "## 뭔가 중간 연산이 전부다 같은 값으로 되는 것처럼 보이는데 그거만 수정하면 될 듯함!!\n",
    "## 아 그리고 theta 값과 정답과의 차이가 1.0이면 값이 다르다고 생각하면 됨. (참고) \n",
    "theta"
   ]
  },
  {
   "cell_type": "code",
   "execution_count": 68,
   "metadata": {
    "collapsed": true
   },
   "outputs": [],
   "source": [
    "# 예측 함수 구현해보자. 우리가 구한 theta를 통해서 X를 넣어줬을 때 얼마나 y가 맞게 나오는 지 확인하기 위함이다. \n",
    "def predict(theta, X, threshold=0.5):\n",
    "    \"\"\"\n",
    "    theta : theta 값, shape=(n, 1), (array)\n",
    "    X : X 데이터, shape=(m, n), (array)\n",
    "    threshold : y 결정하는 기준 값. (float) \n",
    "    threshold는 1에 가까이 두면 positive에 penalty를 주는 것이고 0에 가까이두면 negative에 penalty를 주는 것이다. \n",
    "    \"\"\"\n",
    "    ##############################################################################\n",
    "    # theta, X를 이용해서 예측을 해보고 값이 threshold 보다 큰 경우를 1 작은 경우를 0으로 return 하자. \n",
    "    # astype 이라는 함수를 새롭게 사용하게 될 것이다. \n",
    "    ##############################################################################\n",
    "    pred = h(theta, X) >= threshold\n",
    "\n",
    "    return (pred.astype('int'))"
   ]
  },
  {
   "cell_type": "code",
   "execution_count": 69,
   "metadata": {},
   "outputs": [
    {
     "name": "stdout",
     "output_type": "stream",
     "text": [
      "correct 값과 정답과의 차이 :  0.205298013245\n",
      "Train accuracy 60.0%\n"
     ]
    }
   ],
   "source": [
    "# prediction 값을 구해보자. \n",
    "pred = predict(theta, X) \n",
    "correct = np.sum(pred == y) / len(pred)\n",
    "print('correct 값과 정답과의 차이 : ', rel_error(correct, 0.91))\n",
    "print('Train accuracy {}%'.format(100 * correct))"
   ]
  },
  {
   "cell_type": "code",
   "execution_count": 19,
   "metadata": {},
   "outputs": [
    {
     "ename": "ValueError",
     "evalue": "x and y can be no greater than 2-D, but have shapes (100000,) and (100000, 3, 1)",
     "output_type": "error",
     "traceback": [
      "\u001b[0;31m---------------------------------------------------------------------------\u001b[0m",
      "\u001b[0;31mValueError\u001b[0m                                Traceback (most recent call last)",
      "\u001b[0;32m<ipython-input-19-ea7203c2c996>\u001b[0m in \u001b[0;36m<module>\u001b[0;34m()\u001b[0m\n\u001b[1;32m      1\u001b[0m \u001b[0;31m# 학습에 따른 cost 감소 그래프를 보자.\u001b[0m\u001b[0;34m\u001b[0m\u001b[0;34m\u001b[0m\u001b[0m\n\u001b[0;32m----> 2\u001b[0;31m \u001b[0mplt\u001b[0m\u001b[0;34m.\u001b[0m\u001b[0mplot\u001b[0m\u001b[0;34m(\u001b[0m\u001b[0mcost_history\u001b[0m\u001b[0;34m)\u001b[0m\u001b[0;34m\u001b[0m\u001b[0m\n\u001b[0m\u001b[1;32m      3\u001b[0m \u001b[0mplt\u001b[0m\u001b[0;34m.\u001b[0m\u001b[0mtitle\u001b[0m\u001b[0;34m(\u001b[0m\u001b[0;34m'cost history'\u001b[0m\u001b[0;34m)\u001b[0m\u001b[0;34m\u001b[0m\u001b[0m\n\u001b[1;32m      4\u001b[0m \u001b[0mplt\u001b[0m\u001b[0;34m.\u001b[0m\u001b[0mxlabel\u001b[0m\u001b[0;34m(\u001b[0m\u001b[0;34m'iteration'\u001b[0m\u001b[0;34m)\u001b[0m\u001b[0;34m\u001b[0m\u001b[0m\n\u001b[1;32m      5\u001b[0m \u001b[0mplt\u001b[0m\u001b[0;34m.\u001b[0m\u001b[0mylabel\u001b[0m\u001b[0;34m(\u001b[0m\u001b[0;34m'cost'\u001b[0m\u001b[0;34m)\u001b[0m\u001b[0;34m\u001b[0m\u001b[0m\n",
      "\u001b[0;32m/home/whikwon/anaconda3/lib/python3.6/site-packages/matplotlib/pyplot.py\u001b[0m in \u001b[0;36mplot\u001b[0;34m(*args, **kwargs)\u001b[0m\n\u001b[1;32m   3315\u001b[0m                       mplDeprecation)\n\u001b[1;32m   3316\u001b[0m     \u001b[0;32mtry\u001b[0m\u001b[0;34m:\u001b[0m\u001b[0;34m\u001b[0m\u001b[0m\n\u001b[0;32m-> 3317\u001b[0;31m         \u001b[0mret\u001b[0m \u001b[0;34m=\u001b[0m \u001b[0max\u001b[0m\u001b[0;34m.\u001b[0m\u001b[0mplot\u001b[0m\u001b[0;34m(\u001b[0m\u001b[0;34m*\u001b[0m\u001b[0margs\u001b[0m\u001b[0;34m,\u001b[0m \u001b[0;34m**\u001b[0m\u001b[0mkwargs\u001b[0m\u001b[0;34m)\u001b[0m\u001b[0;34m\u001b[0m\u001b[0m\n\u001b[0m\u001b[1;32m   3318\u001b[0m     \u001b[0;32mfinally\u001b[0m\u001b[0;34m:\u001b[0m\u001b[0;34m\u001b[0m\u001b[0m\n\u001b[1;32m   3319\u001b[0m         \u001b[0max\u001b[0m\u001b[0;34m.\u001b[0m\u001b[0m_hold\u001b[0m \u001b[0;34m=\u001b[0m \u001b[0mwashold\u001b[0m\u001b[0;34m\u001b[0m\u001b[0m\n",
      "\u001b[0;32m/home/whikwon/anaconda3/lib/python3.6/site-packages/matplotlib/__init__.py\u001b[0m in \u001b[0;36minner\u001b[0;34m(ax, *args, **kwargs)\u001b[0m\n\u001b[1;32m   1896\u001b[0m                     warnings.warn(msg % (label_namer, func.__name__),\n\u001b[1;32m   1897\u001b[0m                                   RuntimeWarning, stacklevel=2)\n\u001b[0;32m-> 1898\u001b[0;31m             \u001b[0;32mreturn\u001b[0m \u001b[0mfunc\u001b[0m\u001b[0;34m(\u001b[0m\u001b[0max\u001b[0m\u001b[0;34m,\u001b[0m \u001b[0;34m*\u001b[0m\u001b[0margs\u001b[0m\u001b[0;34m,\u001b[0m \u001b[0;34m**\u001b[0m\u001b[0mkwargs\u001b[0m\u001b[0;34m)\u001b[0m\u001b[0;34m\u001b[0m\u001b[0m\n\u001b[0m\u001b[1;32m   1899\u001b[0m         \u001b[0mpre_doc\u001b[0m \u001b[0;34m=\u001b[0m \u001b[0minner\u001b[0m\u001b[0;34m.\u001b[0m\u001b[0m__doc__\u001b[0m\u001b[0;34m\u001b[0m\u001b[0m\n\u001b[1;32m   1900\u001b[0m         \u001b[0;32mif\u001b[0m \u001b[0mpre_doc\u001b[0m \u001b[0;32mis\u001b[0m \u001b[0;32mNone\u001b[0m\u001b[0;34m:\u001b[0m\u001b[0;34m\u001b[0m\u001b[0m\n",
      "\u001b[0;32m/home/whikwon/anaconda3/lib/python3.6/site-packages/matplotlib/axes/_axes.py\u001b[0m in \u001b[0;36mplot\u001b[0;34m(self, *args, **kwargs)\u001b[0m\n\u001b[1;32m   1404\u001b[0m         \u001b[0mkwargs\u001b[0m \u001b[0;34m=\u001b[0m \u001b[0mcbook\u001b[0m\u001b[0;34m.\u001b[0m\u001b[0mnormalize_kwargs\u001b[0m\u001b[0;34m(\u001b[0m\u001b[0mkwargs\u001b[0m\u001b[0;34m,\u001b[0m \u001b[0m_alias_map\u001b[0m\u001b[0;34m)\u001b[0m\u001b[0;34m\u001b[0m\u001b[0m\n\u001b[1;32m   1405\u001b[0m \u001b[0;34m\u001b[0m\u001b[0m\n\u001b[0;32m-> 1406\u001b[0;31m         \u001b[0;32mfor\u001b[0m \u001b[0mline\u001b[0m \u001b[0;32min\u001b[0m \u001b[0mself\u001b[0m\u001b[0;34m.\u001b[0m\u001b[0m_get_lines\u001b[0m\u001b[0;34m(\u001b[0m\u001b[0;34m*\u001b[0m\u001b[0margs\u001b[0m\u001b[0;34m,\u001b[0m \u001b[0;34m**\u001b[0m\u001b[0mkwargs\u001b[0m\u001b[0;34m)\u001b[0m\u001b[0;34m:\u001b[0m\u001b[0;34m\u001b[0m\u001b[0m\n\u001b[0m\u001b[1;32m   1407\u001b[0m             \u001b[0mself\u001b[0m\u001b[0;34m.\u001b[0m\u001b[0madd_line\u001b[0m\u001b[0;34m(\u001b[0m\u001b[0mline\u001b[0m\u001b[0;34m)\u001b[0m\u001b[0;34m\u001b[0m\u001b[0m\n\u001b[1;32m   1408\u001b[0m             \u001b[0mlines\u001b[0m\u001b[0;34m.\u001b[0m\u001b[0mappend\u001b[0m\u001b[0;34m(\u001b[0m\u001b[0mline\u001b[0m\u001b[0;34m)\u001b[0m\u001b[0;34m\u001b[0m\u001b[0m\n",
      "\u001b[0;32m/home/whikwon/anaconda3/lib/python3.6/site-packages/matplotlib/axes/_base.py\u001b[0m in \u001b[0;36m_grab_next_args\u001b[0;34m(self, *args, **kwargs)\u001b[0m\n\u001b[1;32m    405\u001b[0m                 \u001b[0;32mreturn\u001b[0m\u001b[0;34m\u001b[0m\u001b[0m\n\u001b[1;32m    406\u001b[0m             \u001b[0;32mif\u001b[0m \u001b[0mlen\u001b[0m\u001b[0;34m(\u001b[0m\u001b[0mremaining\u001b[0m\u001b[0;34m)\u001b[0m \u001b[0;34m<=\u001b[0m \u001b[0;36m3\u001b[0m\u001b[0;34m:\u001b[0m\u001b[0;34m\u001b[0m\u001b[0m\n\u001b[0;32m--> 407\u001b[0;31m                 \u001b[0;32mfor\u001b[0m \u001b[0mseg\u001b[0m \u001b[0;32min\u001b[0m \u001b[0mself\u001b[0m\u001b[0;34m.\u001b[0m\u001b[0m_plot_args\u001b[0m\u001b[0;34m(\u001b[0m\u001b[0mremaining\u001b[0m\u001b[0;34m,\u001b[0m \u001b[0mkwargs\u001b[0m\u001b[0;34m)\u001b[0m\u001b[0;34m:\u001b[0m\u001b[0;34m\u001b[0m\u001b[0m\n\u001b[0m\u001b[1;32m    408\u001b[0m                     \u001b[0;32myield\u001b[0m \u001b[0mseg\u001b[0m\u001b[0;34m\u001b[0m\u001b[0m\n\u001b[1;32m    409\u001b[0m                 \u001b[0;32mreturn\u001b[0m\u001b[0;34m\u001b[0m\u001b[0m\n",
      "\u001b[0;32m/home/whikwon/anaconda3/lib/python3.6/site-packages/matplotlib/axes/_base.py\u001b[0m in \u001b[0;36m_plot_args\u001b[0;34m(self, tup, kwargs)\u001b[0m\n\u001b[1;32m    383\u001b[0m             \u001b[0mx\u001b[0m\u001b[0;34m,\u001b[0m \u001b[0my\u001b[0m \u001b[0;34m=\u001b[0m \u001b[0mindex_of\u001b[0m\u001b[0;34m(\u001b[0m\u001b[0mtup\u001b[0m\u001b[0;34m[\u001b[0m\u001b[0;34m-\u001b[0m\u001b[0;36m1\u001b[0m\u001b[0;34m]\u001b[0m\u001b[0;34m)\u001b[0m\u001b[0;34m\u001b[0m\u001b[0m\n\u001b[1;32m    384\u001b[0m \u001b[0;34m\u001b[0m\u001b[0m\n\u001b[0;32m--> 385\u001b[0;31m         \u001b[0mx\u001b[0m\u001b[0;34m,\u001b[0m \u001b[0my\u001b[0m \u001b[0;34m=\u001b[0m \u001b[0mself\u001b[0m\u001b[0;34m.\u001b[0m\u001b[0m_xy_from_xy\u001b[0m\u001b[0;34m(\u001b[0m\u001b[0mx\u001b[0m\u001b[0;34m,\u001b[0m \u001b[0my\u001b[0m\u001b[0;34m)\u001b[0m\u001b[0;34m\u001b[0m\u001b[0m\n\u001b[0m\u001b[1;32m    386\u001b[0m \u001b[0;34m\u001b[0m\u001b[0m\n\u001b[1;32m    387\u001b[0m         \u001b[0;32mif\u001b[0m \u001b[0mself\u001b[0m\u001b[0;34m.\u001b[0m\u001b[0mcommand\u001b[0m \u001b[0;34m==\u001b[0m \u001b[0;34m'plot'\u001b[0m\u001b[0;34m:\u001b[0m\u001b[0;34m\u001b[0m\u001b[0m\n",
      "\u001b[0;32m/home/whikwon/anaconda3/lib/python3.6/site-packages/matplotlib/axes/_base.py\u001b[0m in \u001b[0;36m_xy_from_xy\u001b[0;34m(self, x, y)\u001b[0m\n\u001b[1;32m    245\u001b[0m         \u001b[0;32mif\u001b[0m \u001b[0mx\u001b[0m\u001b[0;34m.\u001b[0m\u001b[0mndim\u001b[0m \u001b[0;34m>\u001b[0m \u001b[0;36m2\u001b[0m \u001b[0;32mor\u001b[0m \u001b[0my\u001b[0m\u001b[0;34m.\u001b[0m\u001b[0mndim\u001b[0m \u001b[0;34m>\u001b[0m \u001b[0;36m2\u001b[0m\u001b[0;34m:\u001b[0m\u001b[0;34m\u001b[0m\u001b[0m\n\u001b[1;32m    246\u001b[0m             raise ValueError(\"x and y can be no greater than 2-D, but have \"\n\u001b[0;32m--> 247\u001b[0;31m                              \"shapes {} and {}\".format(x.shape, y.shape))\n\u001b[0m\u001b[1;32m    248\u001b[0m \u001b[0;34m\u001b[0m\u001b[0m\n\u001b[1;32m    249\u001b[0m         \u001b[0;32mif\u001b[0m \u001b[0mx\u001b[0m\u001b[0;34m.\u001b[0m\u001b[0mndim\u001b[0m \u001b[0;34m==\u001b[0m \u001b[0;36m1\u001b[0m\u001b[0;34m:\u001b[0m\u001b[0;34m\u001b[0m\u001b[0m\n",
      "\u001b[0;31mValueError\u001b[0m: x and y can be no greater than 2-D, but have shapes (100000,) and (100000, 3, 1)"
     ]
    },
    {
     "data": {
      "image/png": "[encoded data removed]",
      "text/plain": [
       "<matplotlib.figure.Figure at 0x7fd15b6d61d0>"
      ]
     },
     "metadata": {},
     "output_type": "display_data"
    }
   ],
   "source": [
    "# 학습에 따른 cost 감소 그래프를 보자.\n",
    "## plot 그릴 때는 x축 값, y축 값이 같이 줘야 함. x에 iteration, y에 cost_history 주면 됨!!\n",
    "plt.plot(cost_history)\n",
    "plt.title('cost history')\n",
    "plt.xlabel('iteration')\n",
    "plt.ylabel('cost')\n",
    "plt.show()"
   ]
  },
  {
   "cell_type": "code",
   "execution_count": 72,
   "metadata": {},
   "outputs": [
    {
     "ename": "SyntaxError",
     "evalue": "invalid syntax (<ipython-input-72-939a4c37f453>, line 12)",
     "output_type": "error",
     "traceback": [
      "\u001b[1;36m  File \u001b[1;32m\"<ipython-input-72-939a4c37f453>\"\u001b[1;36m, line \u001b[1;32m12\u001b[0m\n\u001b[1;33m    theta0 =\u001b[0m\n\u001b[1;37m             ^\u001b[0m\n\u001b[1;31mSyntaxError\u001b[0m\u001b[1;31m:\u001b[0m invalid syntax\n"
     ]
    }
   ],
   "source": [
    "# 구한 theta를 이용해서 잘 구분되는 지 확인해보자. \n",
    "# 일단 theta가 정해졌고, x1, x2를 이용해서 식을 구성했을 때 y값이 0.5가 되면 \n",
    "# 그 위치에서 decision boundary를 형성한다고 생각할 수 있겠다. \n",
    "# 그리고 위에 sigmoid 그래프를 잘 보면 y가 0.5일 때는 np.dot(theta, X)가 0일 때이다. \n",
    "# 그래프를 그리기 위해서 x1값을 주어지고 x2를 구한다고 생각하면 쉽다. 구하는 식은 h식을 잘 가공하면 된다. \n",
    "\n",
    "# theta값 확인\n",
    "print(theta)\n",
    "\n",
    "### 코드 시작 ###\n",
    "x1 = np.linspace(30, 100, 1000) \n",
    "theta0 = \n",
    "theta1 = \n",
    "theta2 = \n",
    "x2 = \n",
    "### 코드 끝 "
   ]
  },
  {
   "cell_type": "code",
   "execution_count": null,
   "metadata": {
    "collapsed": true
   },
   "outputs": [],
   "source": [
    "# 그래프 그려보자. 잘 구분된 거 같은지 확인한다. \n",
    "def plotData2():\n",
    "    plt.scatter(pos[:,1],pos[:,2], c='k', marker='+', label='Admitted')\n",
    "    plt.scatter(neg[:,1],neg[:,2], c='y', marker='o',label='Not admitted')\n",
    "    plt.plot(x1, x2)\n",
    "    plt.xlabel('Exam 1 score')\n",
    "    plt.ylabel('Exam 2 score')\n",
    "    plt.legend()\n",
    "    plt.grid()\n",
    "    \n",
    "plotData2()"
   ]
  },
  {
   "cell_type": "markdown",
   "metadata": {},
   "source": [
    "아래는 동일한 내용을 scipy로 구현한 예제이다. "
   ]
  },
  {
   "cell_type": "code",
   "execution_count": null,
   "metadata": {
    "collapsed": true
   },
   "outputs": [],
   "source": [
    "#An alternative to OCTAVE's 'fminunc' we'll use some scipy.optimize function, \"fmin\"\n",
    "#Note \"fmin\" does not need to be told explicitly the derivative terms\n",
    "#It only needs the cost function, and it minimizes with the \"downhill simplex algorithm.\"\n",
    "#http://docs.scipy.org/doc/scipy-0.16.0/reference/generated/scipy.optimize.fmin.html\n",
    "from scipy import optimize\n",
    "\n",
    "def optimizeTheta(mytheta,myX,myy,mylambda=0.):\n",
    "    result = optimize.fmin(computeCost, x0=mytheta, args=(myX, myy, mylambda), maxiter=400, full_output=True)\n",
    "    return result[0], result[1]\n"
   ]
  },
  {
   "cell_type": "code",
   "execution_count": null,
   "metadata": {
    "collapsed": true
   },
   "outputs": [],
   "source": [
    "theta, mincost = optimizeTheta(initial_theta,X,y)\n",
    "#That's pretty cool. Black boxes ftw"
   ]
  },
  {
   "cell_type": "code",
   "execution_count": null,
   "metadata": {
    "collapsed": true
   },
   "outputs": [],
   "source": [
    "#\"Call your costFunction function using the optimal parameters of θ. \n",
    "#You should see that the cost is about 0.203.\"\n",
    "print(computeCost(theta,X,y))"
   ]
  },
  {
   "cell_type": "code",
   "execution_count": null,
   "metadata": {
    "collapsed": true
   },
   "outputs": [],
   "source": [
    "#Plotting the decision boundary: two points, draw a line between\n",
    "#Decision boundary occurs when h = 0, or when\n",
    "#theta0 + theta1*x1 + theta2*x2 = 0\n",
    "#y=mx+b is replaced by x2 = (-1/thetheta2)(theta0 + theta1*x1)\n",
    "\n",
    "boundary_xs = np.array([np.min(X[:,1]), np.max(X[:,1])])\n",
    "boundary_ys = (-1./theta[2])*(theta[0] + theta[1]*boundary_xs)\n",
    "plotData()\n",
    "plt.plot(boundary_xs,boundary_ys,'b-',label='Decision Boundary')\n",
    "plt.legend()"
   ]
  },
  {
   "cell_type": "code",
   "execution_count": null,
   "metadata": {
    "collapsed": true
   },
   "outputs": [],
   "source": [
    "#For a student with an Exam 1 score of 45 and an Exam 2 score of 85, \n",
    "#you should expect to see an admission probability of 0.776.\n",
    "print(h(theta,np.array([1, 45.,85.])))"
   ]
  },
  {
   "cell_type": "code",
   "execution_count": null,
   "metadata": {
    "collapsed": true
   },
   "outputs": [],
   "source": [
    "# scipy에서 나오는 theta는 rank가 1이라서 2로 바꿔준다. \n",
    "theta = theta.reshape([-1, 1])"
   ]
  },
  {
   "cell_type": "code",
   "execution_count": null,
   "metadata": {
    "collapsed": true
   },
   "outputs": [],
   "source": [
    "pred = predict(theta, X) \n",
    "correct = np.sum(pred == y) / len(pred)\n",
    "print('Train accuracy {}%'.format(100 * correct))"
   ]
  },
  {
   "cell_type": "markdown",
   "metadata": {},
   "source": [
    "### 2 Regularized Logistic Regression"
   ]
  },
  {
   "cell_type": "markdown",
   "metadata": {},
   "source": [
    "#### 2.1 Visualizing the data"
   ]
  },
  {
   "cell_type": "code",
   "execution_count": 20,
   "metadata": {
    "collapsed": true
   },
   "outputs": [],
   "source": [
    "datafile = 'data/ex2data2.txt'\n",
    "#!head $datafile\n",
    "cols = np.loadtxt(datafile,delimiter=',',usecols=(0,1,2),unpack=True) #Read in comma separated data\n",
    "##Form the usual \"X\" matrix and \"y\" vector\n",
    "X = np.transpose(np.array(cols[:-1]))\n",
    "y = np.transpose(np.array(cols[-1:]))\n",
    "m = y.size # number of training examples\n",
    "##Insert the usual column of 1's into the \"X\" matrix\n",
    "X = np.insert(X,0,1,axis=1)"
   ]
  },
  {
   "cell_type": "code",
   "execution_count": 21,
   "metadata": {
    "collapsed": true
   },
   "outputs": [],
   "source": [
    "#Divide the sample into two: ones with positive classification, one with null classification\n",
    "pos = np.array([X[i] for i in range(X.shape[0]) if y[i] == 1])\n",
    "neg = np.array([X[i] for i in range(X.shape[0]) if y[i] == 0])\n",
    "#Check to make sure I included all entries\n",
    "#print \"Included everything? \",(len(pos)+len(neg) == X.shape[0])"
   ]
  },
  {
   "cell_type": "code",
   "execution_count": 22,
   "metadata": {},
   "outputs": [
    {
     "data": {
      "image/png": "[encoded data removed]",
      "text/plain": [
       "<matplotlib.figure.Figure at 0x7fd15b6500b8>"
      ]
     },
     "metadata": {},
     "output_type": "display_data"
    }
   ],
   "source": [
    "def plotData():\n",
    "    plt.plot(pos[:,1],pos[:,2],'k+',label='y=1')\n",
    "    plt.plot(neg[:,1],neg[:,2],'yo',label='y=0')\n",
    "    plt.xlabel('Microchip Test 1')\n",
    "    plt.ylabel('Microchip Test 2')\n",
    "    plt.legend()\n",
    "    plt.grid(True)\n",
    "\n",
    "#Draw it square to emphasize circular features\n",
    "plt.figure(figsize=(6,6))\n",
    "plotData()"
   ]
  },
  {
   "cell_type": "markdown",
   "metadata": {},
   "source": [
    "#### 2.2 Feature mapping"
   ]
  },
  {
   "cell_type": "code",
   "execution_count": 23,
   "metadata": {
    "collapsed": true
   },
   "outputs": [],
   "source": [
    "#This code I took from someone else (the OCTAVE equivalent was provided in the HW)\n",
    "def mapFeature( x1col, x2col ):\n",
    "    \"\"\" \n",
    "    Function that takes in a column of n- x1's, a column of n- x2s, and builds\n",
    "    a n- x 28-dim matrix of featuers as described in the homework assignment\n",
    "    \"\"\"\n",
    "    degrees = 6\n",
    "    out = np.ones( (x1col.shape[0], 1) )\n",
    "    for i in range(1, degrees+1):\n",
    "        for j in range(0, i+1):\n",
    "            term1 = x1col ** (i-j)\n",
    "            term2 = x2col ** (j)\n",
    "            term  = (term1 * term2).reshape( term1.shape[0], 1 ) \n",
    "            out   = np.hstack(( out, term ))\n",
    "    return out"
   ]
  },
  {
   "cell_type": "code",
   "execution_count": 24,
   "metadata": {
    "collapsed": true
   },
   "outputs": [],
   "source": [
    "#Create feature-mapped X matrix\n",
    "mappedX = mapFeature(X[:,1],X[:,2])"
   ]
  },
  {
   "cell_type": "markdown",
   "metadata": {},
   "source": [
    "### 아래는 조금 더 많은 feature가 있는 경우에 logistic classification을 적용한 것이다. \n",
    "위에서 정의한 cost, gradient로 잘 되는 지 확인해보자."
   ]
  },
  {
   "cell_type": "code",
   "execution_count": 25,
   "metadata": {},
   "outputs": [
    {
     "name": "stdout",
     "output_type": "stream",
     "text": [
      "mappedX의 shape : (118, 28)\n",
      "y의 shape : (118, 1)\n"
     ]
    }
   ],
   "source": [
    "# 우리가 사용할 X, y의 정보는 아래와 같다.\n",
    "# X로 mappedX를 사용할 건데 위에서 불러온 (118, 3) 데이터를 특정 함수를 통해서 mapping한 값이라고 보면 된다. \n",
    "print(\"mappedX의 shape : {}\".format(mappedX.shape))\n",
    "print(\"y의 shape : {}\".format(y.shape))"
   ]
  },
  {
   "cell_type": "markdown",
   "metadata": {},
   "source": [
    "#### 2.3 Cost function and gradient"
   ]
  },
  {
   "cell_type": "code",
   "execution_count": 29,
   "metadata": {},
   "outputs": [
    {
     "name": "stdout",
     "output_type": "stream",
     "text": [
      "Cost 값과 정답과의 차이 :  5.81117201448e-08\n"
     ]
    }
   ],
   "source": [
    "# shape에 맞게 theta를 지정해주자. initial_theta일 때의 cost를 구해보자. \n",
    "initial_theta = \n",
    "cost = \n",
    "assert initial_theta.shape == (mappedX.shape[1], 1), \"initial_theta의 shape가 맞지 않음.\"\n",
    "print(\"Cost 값과 정답과의 차이 : \", rel_error(cost, 0.6931471))"
   ]
  },
  {
   "cell_type": "code",
   "execution_count": 30,
   "metadata": {
    "collapsed": true
   },
   "outputs": [],
   "source": [
    "# 위에서 본 예제와 같이 gradient descent로 학습시켜보자. \n",
    "theta, theta_history, cost_history = \n",
    "\n",
    "# 위에서 구한 theta를 가지고 예측해보자. (위에 구현한거랑 같은 내용.)\n",
    "pred = \n",
    "correct = \n",
    "\n",
    "# iteration마다 cost가 어떻게 되는지 그래프로 그려보자. (위에 구현한거랑 같은 내용.)"
   ]
  }
 ],
 "metadata": {
  "kernelspec": {
   "display_name": "Python 3",
   "language": "python",
   "name": "python3"
  },
  "language_info": {
   "codemirror_mode": {
    "name": "ipython",
    "version": 3
   },
   "file_extension": ".py",
   "mimetype": "text/x-python",
   "name": "python",
   "nbconvert_exporter": "python",
   "pygments_lexer": "ipython3",
   "version": "3.6.1"
  }
 },
 "nbformat": 4,
 "nbformat_minor": 1
}
