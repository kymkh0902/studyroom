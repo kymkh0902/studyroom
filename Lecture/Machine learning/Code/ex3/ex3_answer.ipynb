{
 "cells": [
  {
   "cell_type": "markdown",
   "metadata": {},
   "source": [
    "## Programming Exercise 3: Multi-class Classification and Neural Networks"
   ]
  },
  {
   "cell_type": "code",
   "execution_count": 116,
   "metadata": {
    "collapsed": true
   },
   "outputs": [],
   "source": [
    "%matplotlib inline\n",
    "import numpy as np\n",
    "import matplotlib.pyplot as plt\n",
    "import pandas as pd\n",
    "import scipy.io #Used to load the OCTAVE *.mat files\n",
    "\n",
    "def rel_error(x, y):\n",
    "    \"\"\" returns relative error \"\"\"\n",
    "    return np.max(np.abs(x - y) / (np.maximum(1e-8, np.abs(x) + np.abs(y))))"
   ]
  },
  {
   "cell_type": "markdown",
   "metadata": {},
   "source": [
    "### 1 Multi-class Classification"
   ]
  },
  {
   "cell_type": "markdown",
   "metadata": {},
   "source": [
    "#### 1.1 Dataset \n",
    "우리가 여기서 사용할 데이터셋을 불러와보자. neural network를 이용해서 multi-class 이미지의 classification을 해볼 것이다. "
   ]
  },
  {
   "cell_type": "code",
   "execution_count": 20,
   "metadata": {},
   "outputs": [
    {
     "name": "stdout",
     "output_type": "stream",
     "text": [
      "X shape: (5000, 400). X[0] shape: (400,)\n",
      "y shape: (5000, 1). y classes: [ 1  2  3  4  5  6  7  8  9 10]\n"
     ]
    }
   ],
   "source": [
    "# 데이터를 불러오자. \n",
    "datafile = 'data/ex3data1.mat'\n",
    "# scipy에 loadmat이라는 mat파일을 불러오는 함수를 사용한다. \n",
    "mat = scipy.io.loadmat(datafile)\n",
    "# X, y를 지정해준다. \n",
    "X, y = mat['X'], mat['y']\n",
    "## X와 y가 어떤 값들로 이루어져 있는지 확인해보자. \n",
    "print(\"X shape: %s. X[0] shape: %s\"%(X.shape,X[0].shape))\n",
    "print(\"y shape: %s. y classes: %s\"%(mat['y'].shape,np.unique(mat['y'])))"
   ]
  },
  {
   "cell_type": "code",
   "execution_count": 21,
   "metadata": {
    "collapsed": true
   },
   "outputs": [],
   "source": [
    "# X에 2번째 열에 1을 insert 해주자. \n",
    "X = np.insert(X, 0, 1, axis=1)"
   ]
  },
  {
   "cell_type": "markdown",
   "metadata": {},
   "source": [
    "#### 1.2 Visualizing the data\n",
    "\n",
    "X를 이미지로, y를 label로 사용할 것이다. #### 1.2 Visualizing the data"
   ]
  },
  {
   "cell_type": "code",
   "execution_count": 23,
   "metadata": {},
   "outputs": [
    {
     "data": {
      "image/png": "[encoded data removed]",
      "text/plain": [
       "<matplotlib.figure.Figure at 0x7f63e44a5d90>"
      ]
     },
     "metadata": {},
     "output_type": "display_data"
    }
   ],
   "source": [
    "# X, y가 뭐로 이루어져 있는지 확인해보자. \n",
    "# 랜덤으로 그래프 그릴 데이터의 index를 5000개 중에 9개를 뽑는다. \n",
    "np.random.seed(42)\n",
    "random_indices = np.random.choice(5000, 9)\n",
    "# 뽑은 index를 사용해서 9개의 값만 따로 저장해준다. \n",
    "X_sample, y_sample = X[random_indices], y[random_indices]\n",
    "# 3행, 3열로 그래프를 그릴 예정이다. \n",
    "rows, cols = 3, 3\n",
    "# figure를 만들어준다. \n",
    "plt.figure(figsize=(9, 10))\n",
    "for row in range(rows):\n",
    "    for col in range(cols):\n",
    "        order = row * cols + col \n",
    "        # 그래프의 행, 열에 해당하는 정보가 들어가면서 생성된다.  \n",
    "        plt.subplot(rows, cols, order + 1)\n",
    "        # array를 받아서 이미지로 나타내주는 그래프이다. colormap은 gray로 해주어야 흑백이 나온다. \n",
    "        plt.imshow(X_sample[order][1:].reshape([20, 20]).transpose(), cmap='gray')\n",
    "        # 그래프에 맞는 y값을 매칭시켜준다. \n",
    "        plt.title(y_sample[order][0])        "
   ]
  },
  {
   "cell_type": "markdown",
   "metadata": {
    "collapsed": true
   },
   "source": [
    "### 2 Neural Networks"
   ]
  },
  {
   "cell_type": "markdown",
   "metadata": {},
   "source": [
    "#### 2.1 Model representation"
   ]
  },
  {
   "cell_type": "code",
   "execution_count": 30,
   "metadata": {},
   "outputs": [
    {
     "name": "stdout",
     "output_type": "stream",
     "text": [
      "theta1 has shape: (25, 401)\n",
      "theta2 has shape: (10, 26)\n"
     ]
    }
   ],
   "source": [
    "# 이미 학습되어 있는 weight 값들을 불러올 거다. \n",
    "datafile = 'data/ex3weights.mat'\n",
    "# 위와 마찬가지로 scipy.io.loadmat으로 불러온다. \n",
    "mat = scipy.io.loadmat(datafile)\n",
    "# 각 layer 별 theta를 theta1, theta2 로 지정해준다. \n",
    "theta1, theta2 = mat['Theta1'], mat['Theta2']\n",
    "print \"theta1 has shape:\",theta1.shape\n",
    "print \"theta2 has shape:\",theta2.shape"
   ]
  },
  {
   "cell_type": "markdown",
   "metadata": {},
   "source": [
    "#### Q. theta1, theta2의 shape이 어떤 의미를 가지고 있나? 숫자가 layer에서 나타내는 각각의 의미를 쓰면 된다.\n",
    "- theta1 : 401(input feature수), 25(hidden layer의 차원, in)\n",
    "- theta2 : 10(classes 수), 26(hidden layer의 차원, out, bias가 더해짐.)"
   ]
  },
  {
   "cell_type": "markdown",
   "metadata": {},
   "source": [
    "#### 2.2 Feedforward Propagation"
   ]
  },
  {
   "cell_type": "code",
   "execution_count": 29,
   "metadata": {},
   "outputs": [
    {
     "data": {
      "text/plain": [
       "(5000, 401)"
      ]
     },
     "execution_count": 29,
     "metadata": {},
     "output_type": "execute_result"
    }
   ],
   "source": [
    "X.shape"
   ]
  },
  {
   "cell_type": "code",
   "execution_count": 45,
   "metadata": {},
   "outputs": [
    {
     "data": {
      "text/plain": [
       "(5000, 26)"
      ]
     },
     "execution_count": 45,
     "metadata": {},
     "output_type": "execute_result"
    }
   ],
   "source": [
    "np.insert(np.dot(X, theta1.T), 0, 1, axis=1).shape"
   ]
  },
  {
   "cell_type": "code",
   "execution_count": 98,
   "metadata": {
    "collapsed": true
   },
   "outputs": [],
   "source": [
    "def sigmoid(z):\n",
    "    return 1 / (1 + np.exp(-z))\n",
    "    \n",
    "def forwardpropagate(X,thetas):\n",
    "    \"\"\"\n",
    "    X : input 값. (array)\n",
    "    Thetas : layer 별로 필요한 theta 값들. (list)\n",
    "    \n",
    "    X를 받아서 layer 별로 진행한 뒤에 output을 내놓는 것이 목적이다. \n",
    "    \"\"\"\n",
    "    features = X\n",
    "    for i in range(len(thetas)):\n",
    "        theta = thetas[i]\n",
    "        z = np.dot(features, theta.T)\n",
    "        a = sigmoid(z)\n",
    "        if i == len(thetas)-1:\n",
    "            return a\n",
    "        a = np.insert(a,0,1, axis=1) #Add the bias unit\n",
    "        features = a\n",
    "\n",
    "def predictNN(X,thetas):\n",
    "    \"\"\"\n",
    "    X : input 값. (array)\n",
    "    Thetas : layer 별로 필요한 theta 값들. (list)\n",
    "    \"\"\"\n",
    "    output = forwardpropagate(X,thetas)\n",
    "    pred = np.argmax(np.array(output), axis=1) + 1\n",
    "    return pred"
   ]
  },
  {
   "cell_type": "code",
   "execution_count": 119,
   "metadata": {
    "scrolled": false
   },
   "outputs": [
    {
     "name": "stdout",
     "output_type": "stream",
     "text": [
      "Training set accuracy: 97.5%\n",
      "Accuracy 정답과의 차이 값 : 0.000102553584248\n"
     ]
    }
   ],
   "source": [
    "# \"You should see that the accuracy is about 97.5%\"\n",
    "thetas = [theta1, theta2]\n",
    "# 위에서 정의한 predictNN으로 예측해보자. \n",
    "pred = np.reshape(predictNN(X, thetas), [y.shape[0], 1])\n",
    "correct = pred == y \n",
    "accuracy = np.mean(correct)\n",
    "\n",
    "print(\"Training set accuracy: %0.1f%%\"%(100*accuracy))\n",
    "print(\"Accuracy 정답과의 차이 값 : {}\".format(rel_error(accuracy, 0.975)))"
   ]
  },
  {
   "cell_type": "code",
   "execution_count": 157,
   "metadata": {
    "scrolled": false
   },
   "outputs": [
    {
     "data": {
      "image/png": "[encoded data removed]",
      "text/plain": [
       "<matplotlib.figure.Figure at 0x7f63e3518350>"
      ]
     },
     "metadata": {},
     "output_type": "display_data"
    }
   ],
   "source": [
    "# 자, 이제 좋은 모델을 구한건 아니지만 weight가 학습이 되면 좋은 모델 역할을 할 수 있다는 사실을 알았다.\n",
    "# 좋은 weight를 구하는 방법은 다음 시간에 보도록 하고 \n",
    "# 모델로 구한 결과가 제 구실을 하는지 몇 개 sample을 뽑아서 보도록 하자. \n",
    "# 대부분 맞으니 틀린거만 보도록 하겠다. \n",
    "\n",
    "# 틀린 결과만 다 모은 뒤에 9개만 뽑아서 보여보자. \n",
    "incorrect_examples_indices = np.where(correct == False)[0]\n",
    "\n",
    "# 랜덤으로 그래프 그릴 데이터의 index를 5000개 중에 9개를 뽑는다. \n",
    "np.random.seed(20)\n",
    "random_indices = np.random.choice(incorrect_examples_indices, 9)\n",
    "# 뽑은 index를 사용해서 9개의 값만 따로 저장해준다. \n",
    "X_incorrect_sample, y_incorrect_sample = X[random_indices], pred[random_indices]\n",
    "# 3행, 3열로 그래프를 그릴 예정이다. \n",
    "rows, cols = 3, 3\n",
    "# figure를 만들어준다. \n",
    "plt.figure(figsize=(9, 10))\n",
    "for row in range(rows):\n",
    "    for col in range(cols):\n",
    "        order = row * cols + col \n",
    "        # 그래프의 행, 열에 해당하는 정보가 들어가면서 생성된다.  \n",
    "        plt.subplot(rows, cols, order + 1)\n",
    "        # array를 받아서 이미지로 나타내주는 그래프이다. colormap은 gray로 해주어야 흑백이 나온다. \n",
    "        plt.imshow(X_sample[order][1:].reshape([20, 20]).transpose(), cmap='gray')\n",
    "        # 그래프에 맞는 y값을 매칭시켜준다. \n",
    "        plt.title(\"Predicted : {}\".format(y_incorrect_sample[order][0]))"
   ]
  }
 ],
 "metadata": {
  "kernelspec": {
   "display_name": "Python 2",
   "language": "python",
   "name": "python2"
  },
  "language_info": {
   "codemirror_mode": {
    "name": "ipython",
    "version": 2
   },
   "file_extension": ".py",
   "mimetype": "text/x-python",
   "name": "python",
   "nbconvert_exporter": "python",
   "pygments_lexer": "ipython2",
   "version": "2.7.13"
  }
 },
 "nbformat": 4,
 "nbformat_minor": 1
}
