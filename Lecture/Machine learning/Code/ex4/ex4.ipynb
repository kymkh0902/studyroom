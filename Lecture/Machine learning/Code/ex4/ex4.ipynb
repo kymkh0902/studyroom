{
 "cells": [
  {
   "cell_type": "markdown",
   "metadata": {},
   "source": [
    "## Programming Exercise 4: Neural Networks Learning"
   ]
  },
  {
   "cell_type": "code",
   "execution_count": 1,
   "metadata": {
    "collapsed": true
   },
   "outputs": [],
   "source": [
    "%matplotlib inline\n",
    "import numpy as np\n",
    "import matplotlib.pyplot as plt\n",
    "import pandas as pd\n",
    "import scipy.io #Used to load the OCTAVE *.mat files\n",
    "import time\n",
    "import itertools\n",
    "from scipy.special import expit\n",
    "\n",
    "def rel_error(x, y):\n",
    "    \"\"\" returns relative error \"\"\"\n",
    "    return np.max(np.abs(x - y) / (np.maximum(1e-8, np.abs(x) + np.abs(y))))"
   ]
  },
  {
   "cell_type": "markdown",
   "metadata": {},
   "source": [
    "### 1 Neural Networks"
   ]
  },
  {
   "cell_type": "markdown",
   "metadata": {},
   "source": [
    "#### 1.1 Visualizing the data\n",
    "\n",
    "데이터 확인하고 시각화해보자. 다루는 데이터가 어떤 종류인지, 몇차원으로 이루어져 있는지 생각하자."
   ]
  },
  {
   "cell_type": "markdown",
   "metadata": {},
   "source": [
    "**Q. 데이터 X, y에 대한 정보와 이것으로 무엇을 할 건지 아래에 서술해보자.**"
   ]
  },
  {
   "cell_type": "code",
   "execution_count": 17,
   "metadata": {},
   "outputs": [
    {
     "name": "stdout",
     "output_type": "stream",
     "text": [
      "('X has shape :', (5000, 400))\n",
      "('y has shape :', (5000, 1))\n"
     ]
    },
    {
     "data": {
      "text/plain": [
       "array([ 1,  2,  3,  4,  5,  6,  7,  8,  9, 10], dtype=uint8)"
      ]
     },
     "execution_count": 17,
     "metadata": {},
     "output_type": "execute_result"
    }
   ],
   "source": [
    "# 데이터를 불러오자. \n",
    "datafile = './data/ex4data1.mat'\n",
    "# scipy에 loadmat이라는 mat파일을 불러오는 함수를 사용한다. \n",
    "mat = scipy.io.loadmat(datafile)\n",
    "\n",
    "# X, y를 지정해준다. \n",
    "X, y = mat['X'], mat['y']\n",
    "\n",
    "## X와 y가 어떤 값들로 이루어져 있는지 확인해보자. \n",
    "#1. X, y의 shape 확인한다. \n",
    "#2. X는 이미지, y는 label 정보이다. y가 몇 가지 class의 label로 이루어져 있는지 확인해보자. (np.unique를 쓰자.)\n",
    "\n",
    "### 코드 시작 ###\n",
    "print (\"X has shape :\",X.shape)\n",
    "print (\"y has shape :\",y.shape)\n",
    "np.unique(y)\n",
    "### 코드 끝 ###"
   ]
  },
  {
   "cell_type": "code",
   "execution_count": 18,
   "metadata": {
    "scrolled": true
   },
   "outputs": [
    {
     "name": "stdout",
     "output_type": "stream",
     "text": [
      "(5000, 401)\n"
     ]
    }
   ],
   "source": [
    "# X에 2번째 열에 1을 insert 해주자. \n",
    "X = np.insert(X, 0, 1, axis=1)\n",
    "print (X.shape)"
   ]
  },
  {
   "cell_type": "markdown",
   "metadata": {},
   "source": [
    "#### 1.2 Visualizing the data\n",
    "\n",
    "X를 이미지로, y를 label로 사용할 것이다. 아래는 각 `class(label)` 에 대한 X값을 이미지로 나타낸 것이다.\n",
    "\n",
    "앞선 **Logistic, Linear** 에서는 2차원 평면에 나타냈고 이번에는 이미지라서 각각 이미지로 나타냈다.\n",
    "\n",
    "아래 코드를 보면서 matplotlib로 image 나타내는 것을 익혀보자. "
   ]
  },
  {
   "cell_type": "code",
   "execution_count": 20,
   "metadata": {},
   "outputs": [
    {
     "data": {
      "image/png": "[encoded data removed]",
      "text/plain": [
       "<matplotlib.figure.Figure at 0x7f7447cb7d50>"
      ]
     },
     "metadata": {},
     "output_type": "display_data"
    }
   ],
   "source": [
    "# X, y가 뭐로 이루어져 있는지 확인해보자. \n",
    "# random seed는 계속 뽑을 때마다 무작위로 되는 걸 방지하기 위해서 사용한다. 숫자 별로 무작위 값이 지정되어 있다. \n",
    "np.random.seed(42)\n",
    "# 랜덤으로 그래프 그릴 데이터의 index를 5000개 중에 9개를 뽑는다. \n",
    "random_indices = np.random.choice(5000, 9)\n",
    "# 뽑은 index를 사용해서 9개의 값만 따로 저장해준다.\n",
    "X_sample, y_sample = X[random_indices], y[random_indices]\n",
    "# 3행, 3열로 그래프를 그릴 예정이다. \n",
    "rows, cols = 3, 3\n",
    "# figure를 만들어준다. \n",
    "plt.figure(figsize=(9, 10))\n",
    "for row in range(rows):\n",
    "    for col in range(cols):\n",
    "        order = row * cols + col \n",
    "        # 그래프의 행, 열에 해당하는 정보가 들어가면서 생성된다.  \n",
    "        plt.subplot(rows, cols, order + 1)\n",
    "        # array를 받아서 이미지로 나타내주는 그래프이다. colormap은 gray로 해주어야 흑백이 나온다. \n",
    "        plt.imshow(X_sample[order][1:].reshape([20, 20]).transpose(), cmap='gray')\n",
    "        # 그래프에 맞는 y값을 매칭시켜준다. \n",
    "        plt.title(y_sample[order][0])        "
   ]
  },
  {
   "cell_type": "markdown",
   "metadata": {},
   "source": [
    "#### 1.2 Model representation"
   ]
  },
  {
   "cell_type": "code",
   "execution_count": 34,
   "metadata": {},
   "outputs": [
    {
     "name": "stdout",
     "output_type": "stream",
     "text": [
      "('Theta1 has shape :', (25, 401))\n",
      "('Theta2 has shape :', (10, 26))\n"
     ]
    }
   ],
   "source": [
    "# 이미 학습되어 있는 weight 값들을 불러올 거다. \n",
    "datafile = 'data/ex4weights.mat'\n",
    "# 위와 마찬가지로 scipy.io.loadmat으로 불러온다. \n",
    "mat = scipy.io.loadmat(datafile)\n",
    "# 각 layer 별 theta를 theta1, theta2 로 지정해준다. \n",
    "theta1, theta2 = mat['Theta1'], mat['Theta2']\n",
    "\n",
    "# theta의 shape을 확인해보고 shape의 의미를 써보자. \n",
    "### 코드 시작 ###\n",
    "print (\"Theta1 has shape :\", theta1.shape)\n",
    "print (\"Theta2 has shape :\", theta2.shape)\n",
    "### 코드 끝 ###"
   ]
  },
  {
   "cell_type": "code",
   "execution_count": 35,
   "metadata": {
    "collapsed": true
   },
   "outputs": [],
   "source": [
    "# Bias를 빼고 우리가 아는 정보들을 모아서 변수에 선언하자. \n",
    "input_layer_size = 400\n",
    "hidden_layer_size = 25\n",
    "output_layer_size = 10 \n",
    "n_training_samples = X.shape[0]\n",
    "thetas = [theta1, theta2]"
   ]
  },
  {
   "cell_type": "markdown",
   "metadata": {},
   "source": [
    "#### 1.3 Feedforward and cost function"
   ]
  },
  {
   "cell_type": "markdown",
   "metadata": {},
   "source": [
    "ex.3에서 구현한 `forwardpropagate` 함수를 사용하자. "
   ]
  },
  {
   "cell_type": "code",
   "execution_count": 36,
   "metadata": {
    "collapsed": true
   },
   "outputs": [],
   "source": [
    "# logistic regression에서 쓴 sigmoid 함수가 또 필요하다. \n",
    "def sigmoid(z):\n",
    "    return 1 / (1 + np.exp(-z))\n",
    "    \n",
    "# forwardpropagate을 하자. \n",
    "# 앞 강의에서 내용과 조금 다른 부분이 있는데 앞에서는 마지막 값 a(h)만 내놓은 반면에 여기에선 Backpropagation을 위해서\n",
    "# 각 layer 별 output을 전부다 모아야 한다. \n",
    "def forwardpropagate(X,thetas):\n",
    "    \"\"\"\n",
    "    X : input 값. (array)\n",
    "    Thetas : layer 별로 필요한 theta 값들. (list)\n",
    "    \n",
    "    X를 받아서 layer 별로 진행한 뒤에 output을 내놓는 것이 목적이다. \n",
    "    \"\"\"\n",
    "    ##############################################################################\n",
    "    # 1. input으로 X를 받는다. \n",
    "    #  -> layer를 지날 때마다 값이 계속 바뀌므로 features에 넣고 loop를 돌리는게 낫다. \n",
    "    # 2. layer가 지날 때마다 weight(theta)와 연산이 되고 bias가 더해져서 전달된다. \n",
    "    #  -> bias는 강의 자료에 나오듯 1을 더해주면 된다. (np.insert) \n",
    "    # 3. 마지막 layer에서는 bias가 더해지지 않고 sigmoid 함수가 쓰여서 값을 0 - 1 사이로 만들어준다. \n",
    "    ##############################################################################\n",
    "    features = X\n",
    "    z_and_a_per_layer = []\n",
    "    ### 코드 시작 ###\n",
    "    ######### 코드의 정확한 설명 필요 #########\n",
    "    for i in range(len(thetas)):\n",
    "        theta = thetas[i]\n",
    "        z = np.dot(features, theta.T)\n",
    "        a = sigmoid(z)\n",
    "        z_and_a_per_layer.append((z, a))\n",
    "        if i == len(thetas) - 1:\n",
    "            return z_and_a_per_layer\n",
    "        a = np.insert(a, 0, 1, axis=1)\n",
    "        features = a"
   ]
  },
  {
   "cell_type": "markdown",
   "metadata": {},
   "source": [
    "## Cost function 구현\n",
    "\n",
    "아래 코드에서 Cost Function을 구현할 것이다. 강의 자료에 나온 수식을 그대로 구현하면 된다.\n",
    "\n",
    "$ J(\\theta) = - \\frac {1} {m} \\big [ \\sum_{i=1}^m \\sum_{k=1}^K y_k^{(i)}log\\ h_{\\theta}(x^{(i)})_k + (1 - y_k^{(i)}) log(1 - h_{\\theta}(x^{(i)})_k \\big ] + \\frac {\\lambda} {2m} \\sum_{j=1}^n {\\theta}_j^2 $\n",
    "\n",
    "앞 부분은 항을 하나하나 다 풀어서 썼고 뒷 부분은 안 풀어서 썼는데, 뒷 부분 계산은 그냥 matrix로 해도 딱히 이해에 어려움이 없기 때문이다. <br> \n",
    "(*각 theta를 죄다 제곱을 취한 뒤에 모든 항을 더해주면 된다.*)\n",
    "\n",
    "이제 위에서 앞 식을 풀어야 되는데, 걸리는 부분이 $y$에 해당하는 부분이다. 우리가 데이터로 받은 y의 shape은 (5000, 1)로 식에서 \n",
    "풀려고 하는 (5000, 10) 과는 다른 형태이다. 그래서 y의 형태를 바꿔주는 것이 필요하다. \n",
    "\n",
    "y가 나타내는 정보는 class, 즉 숫자의 값을 나타낸다. <br>\n",
    "형태를 바꿔서 현재 ***class를 나타내는 scalar 값을 0과 1로 이루어진 vector로 바꿔줄 수 있는데 이를 one-hot encoding 이라고 한다.*** 앞 부분 식 계산을 위해서 $y$에 one-hot encoding 을 사용할 것이다. \n",
    "\n",
    "아래에 구현할 때 아래 페이지를 참조해서 해보자. <br>\n",
    "https://stackoverflow.com/questions/29831489/numpy-1-hot-array\n",
    "\n",
    "one-hot encoding 개념 이해가 잘 안 될 경우 아래 페이지를 보자. <br>\n",
    "https://minjejeon.github.io/learningstock/2017/06/05/easy-one-hot-encoding.html"
   ]
  },
  {
   "cell_type": "code",
   "execution_count": 37,
   "metadata": {
    "collapsed": true
   },
   "outputs": [],
   "source": [
    "# y를 one-hot 형태로 만들어주기 \n",
    "# 1. 먼저 (5000, 10) shape의 0으로 이루어진 matrix를 만들어준다. np.zeros 사용\n",
    "y_onehot = np.zeros([y.shape[0], output_layer_size])\n",
    "# 2. y의 값이 해당하는 index 위치만 1로 변경해준다. np.arange, reshape 사용. 위에 첨부한 웹페이지 참조하자. \n",
    "y_onehot[np.arange(5000), y.reshape(1, -1) - 1] = 1 "
   ]
  },
  {
   "cell_type": "markdown",
   "metadata": {},
   "source": [
    "***cost function을 2가지 형태로 구현 할 예정이다. ***\n",
    "1. 완전 low level로, theta는 냅두고 matrix 각 항 별로 모든 값을 구해서 다 더하는 방식을 취한다.\n",
    "2. vectorize 방식을 취한다.\n",
    "\n",
    "--> 두 가지 방식으로 구현을 한 뒤에 속도 비교도 해보자. "
   ]
  },
  {
   "cell_type": "code",
   "execution_count": 38,
   "metadata": {
    "collapsed": true
   },
   "outputs": [],
   "source": [
    "# low level (for loop)\n",
    "def costfunction_vector(thetas, X, y_onehot, lambda_param=0):   \n",
    "    m = X.shape[0]\n",
    "    h_x = forwardpropagate(X, thetas)[-1][-1]\n",
    "    cost_front = 0\n",
    "    cost_back = 0\n",
    "    cost_front = -(1.0/m) * np.sum(y_onehot * np.log(h_x) + (1 - y_onehot) * np.log(1 - h_x)) \n",
    "    for theta in thetas:\n",
    "        cost_theta = 0.5 * lambda_param * np.sum(np.square(theta)) / m \n",
    "        cost_back += cost_theta\n",
    "    cost_total = cost_front + cost_back\n",
    "    return cost_total "
   ]
  },
  {
   "cell_type": "code",
   "execution_count": 39,
   "metadata": {
    "collapsed": true
   },
   "outputs": [],
   "source": [
    "# vector\n",
    "def costfunction_low(thetas, X, y_onehot, lambda_param=0):   \n",
    "    m = X.shape[0]\n",
    "    h_x = forwardpropagate(X, thetas)[-1][-1]\n",
    "    cost_front = 0\n",
    "    cost_back = 0\n",
    "    for i in range(n_training_samples):\n",
    "        for k in range(output_layer_size):\n",
    "            cost_ik = - (1.0/m) * (y_onehot[i, k] * np.log(h_x[i, k]) + (1 - y_onehot[i, k]) * np.log(1 - h_x[i, k])) \n",
    "            cost_front += cost_ik\n",
    "    for theta in thetas:\n",
    "        cost_theta = 0.5 * lambda_param * np.sum(np.square(theta)) / m \n",
    "        cost_back += cost_theta\n",
    "    cost_total = cost_front + cost_back\n",
    "    return cost_total "
   ]
  },
  {
   "cell_type": "markdown",
   "metadata": {},
   "source": [
    "*** 위에서 구현한 cost function을 각각 실행시켜서 vectorize했을 때 시간이 얼마나 단축되는지 확인하자. *** "
   ]
  },
  {
   "cell_type": "code",
   "execution_count": 40,
   "metadata": {},
   "outputs": [
    {
     "name": "stdout",
     "output_type": "stream",
     "text": [
      "0.287629165161\n",
      "Running time for cost with for loop : 0.13s\n"
     ]
    }
   ],
   "source": [
    "start = time.time()\n",
    "print(costfunction_low(thetas, X, y_onehot, 0))\n",
    "end = time.time()\n",
    "print(\"Running time for cost with for loop : {:.2f}s\".format(end - start))"
   ]
  },
  {
   "cell_type": "code",
   "execution_count": 41,
   "metadata": {},
   "outputs": [
    {
     "name": "stdout",
     "output_type": "stream",
     "text": [
      "0.287629165161\n",
      "Running time for cost with vector : 0.03s\n"
     ]
    }
   ],
   "source": [
    "start = time.time()\n",
    "print(costfunction_vector(thetas, X, y_onehot, 0))\n",
    "end = time.time()\n",
    "print(\"Running time for cost with vector : {:.2f}s\".format(end - start))"
   ]
  },
  {
   "cell_type": "markdown",
   "metadata": {},
   "source": [
    "#### 1.4 Regularized cost function\n",
    "\n",
    "Regularizer에 사용되는 lambda 값을 조정해서 cost function이 어떻게 되는지 확인해보자. \n",
    "\n",
    "**Q. Cost function은 어떻게 되나? 여기서 Regularizer의 역할은 뭘까?**"
   ]
  },
  {
   "cell_type": "code",
   "execution_count": 42,
   "metadata": {},
   "outputs": [
    {
     "name": "stdout",
     "output_type": "stream",
     "text": [
      "0.384487796243\n"
     ]
    }
   ],
   "source": [
    "# lambda 값을 1로 놓고 cost function을 구해보자. \n",
    "print(costfunction_vector(thetas, X, y_onehot, 1))"
   ]
  },
  {
   "cell_type": "markdown",
   "metadata": {},
   "source": [
    "## Backpropagation\n",
    "\n",
    "**목적 : chain rule을 통해서 각 layer내 unit별로 모든 theta값의 gradient를 구해야 한다. **\n",
    "\n",
    "chain rule만 잘 사용하면 된다. 각각의 unit들의 연결은 식으로 나타나지고 하나의 식은 곧 바로 gradient를 구할 수 있다.\n",
    "\n",
    "문제가 되는 부분은 여러 개의 식을 지났을 때인데, 하나의 식에 대한 gradient를 알면 chain rule을 통해서 구할 수 있다. \n",
    "\n",
    "이 부분에 대해서만 명확하게 이해하면 나머지는 별거 없는 알고리즘이다. \n",
    "\n",
    "내용에 대해서 아래 사이트를 보는 것을 추천한다. 강의 노트 내용은 notation도 너무 많고 수학적이라 이해가 잘 안된다. \n",
    "\n",
    "http://aikorea.org/cs231n/optimization-2/"
   ]
  },
  {
   "cell_type": "markdown",
   "metadata": {
    "collapsed": true
   },
   "source": [
    "#### 2.1 Sigmoid gradient\n",
    "\n",
    "sigmoid의 경우는 exp 항이 들어가서 gradient를 구하는데 어려움이 있다. 굳이 전개 과정을 알 필요는 없고 \n",
    "***어떤 식이 sigmoid의 gradient를 나타내는지만 알면 된다.***\n",
    "\n",
    "아래 z에 대한 sigmoid 함수의 gradient 식을 참고하자. <br>\n",
    "$\\frac \\partial {\\partial z} \\sigma(z) = \\sigma(z) (1- \\sigma(z))$"
   ]
  },
  {
   "cell_type": "code",
   "execution_count": 43,
   "metadata": {
    "collapsed": true
   },
   "outputs": [],
   "source": [
    "# sigmoid의 gradient를 구하자. \n",
    "def sigmoidGradient(z):\n",
    "    a = sigmoid(z)\n",
    "    return a * (1 - a)"
   ]
  },
  {
   "cell_type": "markdown",
   "metadata": {},
   "source": [
    "#### 2.2 Random initialization\n",
    "\n",
    "theta를 기존에는 0의 값들로 이루어진 matrix를 사용했는데 neural network에서 그렇게 사용할 경우에 초기에 학습이 잘 되지 않는다. \n",
    "(***왜 그런지 생각해보자.***) <br> 그래서 0에 가까운 작은 값들로 초기화를 시켜준다. "
   ]
  },
  {
   "cell_type": "code",
   "execution_count": 44,
   "metadata": {
    "collapsed": true
   },
   "outputs": [],
   "source": [
    "def randomInitTheta():\n",
    "    epsilon_init = 0.12\n",
    "    theta1_shape = (hidden_layer_size, input_layer_size+1)\n",
    "    theta2_shape = (output_layer_size, hidden_layer_size+1)\n",
    "    rand_thetas = [ np.random.rand( *theta1_shape ) * 2 * epsilon_init - epsilon_init, \\\n",
    "                    np.random.rand( *theta2_shape ) * 2 * epsilon_init - epsilon_init]\n",
    "    return rand_thetas"
   ]
  },
  {
   "cell_type": "markdown",
   "metadata": {},
   "source": [
    "#### 2.3 Backpropagation\n",
    "\n",
    "Neural Network에서 배우는 개념 중에 가장 중요하다. 명확하게 이해하도록 하자. <br>\n",
    "표기법과 설명은 아래 그림을 참고해서 하도록 하겠다. 그리고 직관적인 이해를 위해 표기들은 전부다 대문자 Matrix로 나타내겠다. \n",
    "\n",
    "![NN](../../../../pictures/neural_network.png)\n",
    "\n",
    "- 목표 : $J(\\Theta)$에 대한 $\\Theta^{(1)}, \\Theta^{(2)}$ ***각각의 gradient를 구하기.*** ($\\frac {\\partial J(\\Theta)} {\\partial \\Theta^{(1)}}, \\frac {\\partial J(\\Theta)} {\\partial \\Theta^{(2)}}$)\n",
    "- Forward 식 : 식이 진행되는 순서대로 쭉 나열해보자. <br>\n",
    "    1) $ Z^2 = \\Theta^{(1)} \\cdot X$ <br>\n",
    "    2) $ A^2 = g(Z^2)$ <br>\n",
    "    3) $ Z^3 = \\Theta^{(2)} \\cdot A^2$ <br>\n",
    "    4) $ H_{\\Theta}(X) = g(Z^3)$ <br>\n",
    "    5) $ J(\\Theta) = -\\frac 1 m \\big [\\sum Y{log}H_{\\Theta}(X) + (1 - Y){log}(1-H_{\\Theta}(X)) \\big] + \\frac \\lambda {2m} \\sum \\Theta^2$\n",
    "- Backward 식 : 거꾸로 바로 이전 식에 대한 항들의 gradient를 구해보자. <br>\n",
    "    1) $\\frac {\\partial Z^2} {\\partial \\Theta^{(1)}} = \\frac \\partial {\\partial \\Theta^{(1)}} (\\Theta^{(1)} \\cdot X$) <br>\n",
    "    2) $\\frac {\\partial A^2} {\\partial Z^2} = \\frac \\partial {\\partial Z^2} (g(Z^2))$ <br>\n",
    "    3) $\\frac {\\partial Z^3} {\\partial A^2} = \\frac \\partial {\\partial A^2} (\\Theta^{(2)} \\cdot A^2)$ <br>\n",
    "    4) $\\frac {\\partial Z^3} {\\partial \\Theta^{(2)}} = \\frac \\partial {\\partial \\Theta^{(2)}} (\\Theta^{(2)} \\cdot A^2)$ <br>\n",
    "    5) $\\frac {\\partial H_{\\Theta}(X)} {\\partial Z^3} = \\frac \\partial {\\partial Z^3} (g(Z^3))$ <br>\n",
    "    6) $\\frac {\\partial J(\\Theta)} {\\partial H_{\\Theta}(X)} = \\frac \\partial {\\partial H_{Theta}(X)} (J(\\Theta))$ <br>\n",
    "위 식들을 이용해서 구해야 하는 목표 식 2개를 풀어서 나타내보도록 하자. <br>\n",
    "*** 아래와 같이 식을 풀어서 나타낼 수 있고 위에서 계산한 Backward 1~5를 활용하면 목표 1, 2를 구할 수 있다는 것을 알았다. \n",
    "1~5를 구하는 것에 어려움은 sigmoid에 대한 gradient 밖에 없고 이는 위(2.1)에서 해결했으므로 각각의 gradient를 구현하고 아래 식에 대입하면 되겠다. ***\n",
    "\n",
    "### 목표 1 : $\\frac {\\partial J(\\Theta)} {\\partial \\Theta^{(1)}} = \\frac {\\partial J(\\Theta)} {\\partial H_{\\Theta}(X)} \\frac {\\partial H_{\\Theta(X)}} {\\partial \\Theta^{(1)}} = \\frac {\\partial J(\\Theta)} {\\partial H_{\\Theta}(X)} \\frac {\\partial H_{\\Theta(X)}} {\\partial Z^3} \\frac {\\partial Z^3} {\\partial \\Theta^{(1)}} = \\frac {\\partial J(\\Theta)} {\\partial H_{\\Theta}(X)} \\frac {\\partial H_{\\Theta(X)}} {\\partial Z^3} \\frac {\\partial Z^3} {\\partial A^2} \\frac {\\partial A^2} {\\partial \\Theta^{(1)}} = \\frac {\\partial J(\\Theta)} {\\partial H_{\\Theta}(X)} \\frac {\\partial H_{\\Theta(X)}} {\\partial Z^3} \\frac {\\partial Z^3} {\\partial A^2} \\frac {\\partial A^2} {\\partial Z^2} \\frac {\\partial Z^2} {\\partial \\Theta^{(1)}}$\n",
    "\n",
    "### 목표 2 : $\\frac {\\partial J(\\Theta)} {\\partial \\Theta^{(2)}} = \\frac {\\partial J(\\Theta)} {\\partial H_{\\Theta}(X)} \\frac {\\partial H_{\\Theta(X)}} {\\partial \\Theta^{(2)}} = \\frac {\\partial J(\\Theta)} {\\partial H_{\\Theta}(X)} \\frac {\\partial H_{\\Theta(X)}} {\\partial Z^3} \\frac {\\partial Z^3} {\\partial \\Theta^{(2)}}$\n",
    "\n"
   ]
  },
  {
   "cell_type": "code",
   "execution_count": 283,
   "metadata": {
    "collapsed": true
   },
   "outputs": [],
   "source": [
    "def backpropagate(thetas, X, y_onehot, lambda_param=0.):\n",
    "    m = X.shape[0]\n",
    "    theta1, theta2 = thetas\n",
    "    z_and_a_per_layer = forwardpropagate(X, thetas)\n",
    "    # forward에서 구한 Z, A값들 불러오기. 위에서 forward, backward 식 그대로 구현 예정 \n",
    "    Z2 = z_and_a_per_layer[0][0]\n",
    "    A2 = z_and_a_per_layer[0][1]\n",
    "    Z3 = z_and_a_per_layer[1][0]\n",
    "    H = z_and_a_per_layer[1][1]\n",
    "\n",
    "    # 위 수식 그대로 구현하기\n",
    "    dJ_dH = -(1.0/m) * (y_onehot - H) / (H * (1 - H))\n",
    "    dH_dZ3 = H * (1 - H)\n",
    "    dJ_dZ3 = dJ_dH * dH_dZ3\n",
    "    dA2_dZ2 = sigmoidGradient(Z2)\n",
    "    dJ_dZ2 = np.dot(dJ_dZ3, theta2[:, 1:]) * dA2_dZ2\n",
    "    \n",
    "    # bias의 영향력을 따져야 한다. \n",
    "    A2 = np.insert(A2, 0, 1, axis=1)\n",
    "    dJ_dtheta1 = np.dot(dJ_dZ2.T, X)\n",
    "    dJ_dtheta2 = dJ_dZ3.T.dot(A2) \n",
    "    \n",
    "    # 이름을 간단하게 바꿔주자\n",
    "    dtheta1 = dJ_dtheta1\n",
    "    dtheta2 = dJ_dtheta2 \n",
    "\n",
    "    # regularization \n",
    "    dtheta1[:, 1:] = dtheta1[:, 1:] + (float(lambda_param/m) * theta1[:, 1:])\n",
    "    dtheta2[:, 1:] = dtheta2[:, 1:] + (float(lambda_param/m) * theta2[:, 1:])\n",
    "    \n",
    "    dthetas = [dtheta1, dtheta2]\n",
    "    \n",
    "    return dthetas"
   ]
  },
  {
   "cell_type": "code",
   "execution_count": 284,
   "metadata": {
    "collapsed": true
   },
   "outputs": [],
   "source": [
    "dtheta1, dtheta2 = backpropagate(thetas, X, y_onehot)"
   ]
  },
  {
   "cell_type": "markdown",
   "metadata": {},
   "source": [
    "#### 2.4 Gradient checking\n",
    "\n",
    "내가 Backpropagation으로 구한 Gradient가 맞게 구한건지 확인하는 작업이다. (**analytic gradient**) <br>\n",
    "확인은 $f'(x) = \\displaystyle\\lim_{h \\to 0} \\frac {f(x+h) - f(x)} {h}$ 식을 사용한 **numerical gradient** 를 이용한다. \n",
    "\n",
    "- Analytic gradient : 수식적으로 gradient를 구하는 방법. (예시: $\\frac \\partial {\\partial x} (4x) = 4$)\n",
    "- Numerical gradient : 위 식 참조. 아주 가까운 두 점을 잡고 기울기를 구하면 gradient를 근사해서 구할 수 있다. "
   ]
  },
  {
   "cell_type": "code",
   "execution_count": 287,
   "metadata": {},
   "outputs": [],
   "source": [
    "def eval_numerical_gradient(f, x, verbose=True, h=0.00001):\n",
    "    \"\"\" \n",
    "    a naive implementation of numerical gradient of f at x \n",
    "    - f should be a function that takes a single argument\n",
    "    - x is the point (numpy array) to evaluate the gradient at\n",
    "    \"\"\" \n",
    "    fx = f(x) # evaluate function value at original point\n",
    "    grad = np.zeros_like(x)\n",
    "    # iterate over all indexes in x\n",
    "    it = np.nditer(x, flags=['multi_index'], op_flags=['readwrite'])\n",
    "    while not it.finished:\n",
    "        # evaluate function at x+h\n",
    "        ix = it.multi_index\n",
    "        oldval = x[ix]\n",
    "        x[ix] = oldval + h # increment by h\n",
    "        fxph = f(x) # evalute f(x + h)\n",
    "        x[ix] = oldval - h\n",
    "        fxmh = f(x) # evaluate f(x - h)\n",
    "        x[ix] = oldval # restore\n",
    "\n",
    "        # compute the partial derivative with centered formula\n",
    "        grad[ix] = (fxph - fxmh) / (2 * h) # the slope\n",
    "        if verbose:\n",
    "            print(ix, grad[ix])\n",
    "        it.iternext() # step to next dimension\n",
    "\n",
    "    return grad"
   ]
  },
  {
   "cell_type": "markdown",
   "metadata": {},
   "source": [
    "**Q. 아래 코드는 Gradient를 확인하는 코드이다. 엄청 오래 걸릴거다 왜 그럴까? **"
   ]
  },
  {
   "cell_type": "code",
   "execution_count": 289,
   "metadata": {
    "scrolled": true
   },
   "outputs": [
    {
     "name": "stdout",
     "output_type": "stream",
     "text": [
      "theta1 gradient 차이 : 0.000426020638045\n",
      "theta2 gradient 차이 : 1.86969328277e-07\n"
     ]
    }
   ],
   "source": [
    "# theta1 gradient 확인\n",
    "f1 = lambda th : costfunction_vector([th, theta2], X, y_onehot)\n",
    "theta1_grad_num = eval_numerical_gradient(f1, theta1, verbose=False)\n",
    "print(\"theta1 gradient 차이 : {}\".format(rel_error(dtheta1, theta1_grad_num)))\n",
    "\n",
    "# theta2 gradient 확인\n",
    "f2 = lambda th : costfunction_vector([theta1, th], X, y_onehot)\n",
    "theta2_grad_num = eval_numerical_gradient(f2, theta2, verbose=False)\n",
    "print(\"theta2 gradient 차이 : {}\".format(rel_error(dtheta2, theta2_grad_num)))"
   ]
  },
  {
   "cell_type": "markdown",
   "metadata": {},
   "source": [
    "#### 2.5 Regularized Neural Networks"
   ]
  },
  {
   "cell_type": "code",
   "execution_count": 17,
   "metadata": {
    "collapsed": true,
    "scrolled": true
   },
   "outputs": [],
   "source": [
    "#My back propagation already has regularization in it.\n",
    "#For now, I will assume the regularization part is correct\n",
    "#(since in this case the regularization code is simple, I'm quite confident)"
   ]
  },
  {
   "cell_type": "markdown",
   "metadata": {
    "collapsed": true
   },
   "source": [
    "#### 2.5 Learning parameters using fmincg"
   ]
  },
  {
   "cell_type": "code",
   "execution_count": 18,
   "metadata": {
    "collapsed": true
   },
   "outputs": [],
   "source": [
    "#Here I will use scipy.optimize.fmin_cg\n",
    "\n",
    "def trainNN(mylambda=0.):\n",
    "    \"\"\"\n",
    "    Function that generates random initial theta matrices, optimizes them,\n",
    "    and returns a list of two re-shaped theta matrices\n",
    "    \"\"\"\n",
    "\n",
    "    randomThetas_unrolled = flattenParams(genRandThetas())\n",
    "    result = scipy.optimize.fmin_cg(computeCost, x0=randomThetas_unrolled, fprime=backPropagate, \\\n",
    "                               args=(flattenX(X),y,mylambda),maxiter=50,disp=True,full_output=True)\n",
    "    return reshapeParams(result[0])"
   ]
  },
  {
   "cell_type": "code",
   "execution_count": 19,
   "metadata": {},
   "outputs": [
    {
     "name": "stdout",
     "output_type": "stream",
     "text": [
      "Warning: Maximum number of iterations has been exceeded.\n",
      "         Current function value: 0.295915\n",
      "         Iterations: 50\n",
      "         Function evaluations: 108\n",
      "         Gradient evaluations: 108\n"
     ]
    }
   ],
   "source": [
    "#Training the NN takes about ~70-80 seconds on my machine\n",
    "learned_Thetas = trainNN()"
   ]
  },
  {
   "cell_type": "code",
   "execution_count": 20,
   "metadata": {
    "collapsed": true
   },
   "outputs": [],
   "source": [
    "#If your implementation is correct, you should see a reported training accuracy of about 95.3%\n",
    "#(this may vary by about 1% due to the random initialization)."
   ]
  },
  {
   "cell_type": "code",
   "execution_count": 21,
   "metadata": {
    "collapsed": true
   },
   "outputs": [],
   "source": [
    "def predictNN(row,Thetas):\n",
    "    \"\"\"\n",
    "    Function that takes a row of features, propagates them through the\n",
    "    NN, and returns the predicted integer that was hand written\n",
    "    \"\"\"\n",
    "    classes = range(1,10) + [10]\n",
    "    output = propagateForward(row,Thetas)\n",
    "    #-1 means last layer, 1 means \"a\" instead of \"z\"\n",
    "    return classes[np.argmax(output[-1][1])] \n",
    "\n",
    "def computeAccuracy(myX,myThetas,myy):\n",
    "    \"\"\"\n",
    "    Function that loops over all of the rows in X (all of the handwritten images)\n",
    "    and predicts what digit is written given the thetas. Check if it's correct, and\n",
    "    compute an efficiency.\n",
    "    \"\"\"\n",
    "    n_correct, n_total = 0, myX.shape[0]\n",
    "    for irow in xrange(n_total):\n",
    "        if int(predictNN(myX[irow],myThetas)) == int(myy[irow]): \n",
    "            n_correct += 1\n",
    "    print \"Training set accuracy: %0.1f%%\"%(100*(float(n_correct)/n_total))"
   ]
  },
  {
   "cell_type": "code",
   "execution_count": 22,
   "metadata": {},
   "outputs": [
    {
     "name": "stdout",
     "output_type": "stream",
     "text": [
      "Training set accuracy: 96.2%\n"
     ]
    }
   ],
   "source": [
    "computeAccuracy(X,learned_Thetas,y)"
   ]
  },
  {
   "cell_type": "code",
   "execution_count": 23,
   "metadata": {},
   "outputs": [
    {
     "name": "stdout",
     "output_type": "stream",
     "text": [
      "Warning: Maximum number of iterations has been exceeded.\n",
      "         Current function value: 1.073837\n",
      "         Iterations: 50\n",
      "         Function evaluations: 143\n",
      "         Gradient evaluations: 142\n"
     ]
    }
   ],
   "source": [
    "#Let's see if I set lambda to 10, if I get the same thing\n",
    "learned_regularized_Thetas = trainNN(mylambda=10.)"
   ]
  },
  {
   "cell_type": "code",
   "execution_count": 24,
   "metadata": {},
   "outputs": [
    {
     "name": "stdout",
     "output_type": "stream",
     "text": [
      "Training set accuracy: 93.1%\n"
     ]
    }
   ],
   "source": [
    "computeAccuracy(X,learned_regularized_Thetas,y)"
   ]
  },
  {
   "cell_type": "markdown",
   "metadata": {},
   "source": [
    "### 3 Visualizing the hidden layer"
   ]
  },
  {
   "cell_type": "code",
   "execution_count": 25,
   "metadata": {
    "collapsed": true
   },
   "outputs": [],
   "source": [
    "def displayHiddenLayer(myTheta):\n",
    "    \"\"\"\n",
    "    Function that takes slices of the first Theta matrix (that goes from\n",
    "    the input layer to the hidden layer), removes the bias unit, and reshapes\n",
    "    it into a 20x20 image, and shows it\n",
    "    \"\"\"\n",
    "    #remove bias unit:\n",
    "    myTheta = myTheta[:,1:]\n",
    "    assert myTheta.shape == (25,400)\n",
    "    \n",
    "    width, height = 20, 20\n",
    "    nrows, ncols = 5, 5\n",
    "        \n",
    "    big_picture = np.zeros((height*nrows,width*ncols))\n",
    "    \n",
    "    irow, icol = 0, 0\n",
    "    for row in myTheta:\n",
    "        if icol == ncols:\n",
    "            irow += 1\n",
    "            icol  = 0\n",
    "        #add bias unit back in?\n",
    "        iimg = getDatumImg(np.insert(row,0,1))\n",
    "        big_picture[irow*height:irow*height+iimg.shape[0],icol*width:icol*width+iimg.shape[1]] = iimg\n",
    "        icol += 1\n",
    "    fig = plt.figure(figsize=(6,6))\n",
    "    img = scipy.misc.toimage( big_picture )\n",
    "    plt.imshow(img,cmap = cm.Greys_r)"
   ]
  },
  {
   "cell_type": "code",
   "execution_count": 26,
   "metadata": {},
   "outputs": [
    {
     "data": {
      "image/png": "[encoded data removed]",
      "text/plain": [
       "<matplotlib.figure.Figure at 0x1138b4910>"
      ]
     },
     "metadata": {},
     "output_type": "display_data"
    }
   ],
   "source": [
    "displayHiddenLayer(learned_Thetas[0])"
   ]
  },
  {
   "cell_type": "code",
   "execution_count": null,
   "metadata": {
    "collapsed": true
   },
   "outputs": [],
   "source": []
  }
 ],
 "metadata": {
  "kernelspec": {
   "display_name": "Python 2",
   "language": "python",
   "name": "python2"
  },
  "language_info": {
   "codemirror_mode": {
    "name": "ipython",
    "version": 2
   },
   "file_extension": ".py",
   "mimetype": "text/x-python",
   "name": "python",
   "nbconvert_exporter": "python",
   "pygments_lexer": "ipython2",
   "version": "2.7.13"
  }
 },
 "nbformat": 4,
 "nbformat_minor": 1
}
